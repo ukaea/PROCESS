{
 "cells": [
  {
   "attachments": {},
   "cell_type": "markdown",
   "metadata": {},
   "source": [
    "# `plot_solutions` Solution Comparison Tool\n",
    "\n",
    "This tool plots the solution vectors (i.e. final values of optimisation parameters) for different runs of PROCESS. This allows visual comparisons of different solution points.\n",
    "\n",
    "It can use different intra-solution optimisation parameter normalisations (e.g. initial value, parameter range) and inter-solution normalisations (e.g. normalise to a certain solution).\n",
    "\n",
    "### Known Limitations\n",
    "\n",
    "- The solution vectors (optimisation parameter values at the solution) currently plotted are normalised to the initial point (from the `IN.DAT`) of each solution: each element of the vector is the $x_{final}/x_{initial}$, the `xcmxxx` values in the `MFILE.DAT`. This allows all optimisation parameters to be plotted on the same axis, showing the relative changes from their initial values across multiple solutions.\n",
    "- Solutions being plotted together must also have the same optimisation parameters.\n",
    "- The solutions plotted in this example are fictitious."
   ]
  },
  {
   "cell_type": "code",
   "execution_count": null,
   "metadata": {},
   "outputs": [],
   "source": [
    "# Reload Process each time (keep editable install up-to-date)\n",
    "%load_ext autoreload\n",
    "%autoreload 2\n",
    "\n",
    "from pathlib import Path\n",
    "\n",
    "from process.io.plot_solutions import (\n",
    "    RunMetadata,\n",
    "    plot_mfile_solutions,\n",
    "    plot_mfile_solutions_constraints,\n",
    ")"
   ]
  },
  {
   "cell_type": "markdown",
   "metadata": {},
   "source": [
    "## Plot single solution\n",
    "\n",
    "Plot a single solution, showing optimisation parameters normalised to their initial values."
   ]
  },
  {
   "cell_type": "code",
   "execution_count": null,
   "metadata": {},
   "outputs": [],
   "source": [
    "data_dir = Path(\"data\")\n",
    "runs_metadata = [\n",
    "    RunMetadata(data_dir / \"large_tokamak_1_MFILE.DAT\", \"large tokamak 1\"),\n",
    "]\n",
    "\n",
    "# Figure and dataframe returned for optional further modification\n",
    "fig1, df1 = plot_mfile_solutions(\n",
    "    runs_metadata=runs_metadata,\n",
    "    plot_title=\"Large tokamak solution 1\",\n",
    ")\n",
    "df1"
   ]
  },
  {
   "attachments": {},
   "cell_type": "markdown",
   "metadata": {},
   "source": [
    "## Plot two solutions\n",
    "\n",
    "Plot two MFILEs together, showing normalised values of the optimisation parameters at the solution points, as well as the objective function values."
   ]
  },
  {
   "cell_type": "code",
   "execution_count": null,
   "metadata": {},
   "outputs": [],
   "source": [
    "runs_metadata = [\n",
    "    RunMetadata(data_dir / \"large_tokamak_1_MFILE.DAT\", \"large tokamak 1\"),\n",
    "    RunMetadata(data_dir / \"large_tokamak_2_MFILE.DAT\", \"large tokamak 2\"),\n",
    "]\n",
    "\n",
    "fig2, df2 = plot_mfile_solutions(\n",
    "    runs_metadata=runs_metadata,\n",
    "    plot_title=\"2 large tokamak solutions\",\n",
    ")\n",
    "df2"
   ]
  },
  {
   "attachments": {},
   "cell_type": "markdown",
   "metadata": {},
   "source": [
    "## Plot one solution normalised to another\n",
    "\n",
    "Normalised differences, relative to the a given solution, can also be plotted:"
   ]
  },
  {
   "cell_type": "code",
   "execution_count": null,
   "metadata": {},
   "outputs": [],
   "source": [
    "fig3, df3 = plot_mfile_solutions(\n",
    "    runs_metadata=runs_metadata,\n",
    "    plot_title=\"Large tokamak 2 solution, relative to large tokamak 1\",\n",
    "    normalising_tag=\"large tokamak 1\",\n",
    ")\n",
    "df3"
   ]
  },
  {
   "attachments": {},
   "cell_type": "markdown",
   "metadata": {},
   "source": [
    "## Plot multiple solutions normalised by one\n",
    "\n",
    "Plot two MFILEs, normalised by a third MFILE."
   ]
  },
  {
   "cell_type": "code",
   "execution_count": null,
   "metadata": {},
   "outputs": [],
   "source": [
    "runs_metadata = [\n",
    "    RunMetadata(data_dir / \"large_tokamak_1_MFILE.DAT\", \"large tokamak 1\"),\n",
    "    RunMetadata(data_dir / \"large_tokamak_2_MFILE.DAT\", \"large tokamak 2\"),\n",
    "    RunMetadata(data_dir / \"large_tokamak_3_MFILE.DAT\", \"large tokamak 3\"),\n",
    "]\n",
    "\n",
    "fig4, df4 = plot_mfile_solutions(\n",
    "    runs_metadata,\n",
    "    \"2 large tokamak solutions, relative to large tokamak 1\",\n",
    "    normalising_tag=\"large tokamak 1\",\n",
    ")\n",
    "df4"
   ]
  },
  {
   "cell_type": "markdown",
   "metadata": {},
   "source": [
    "## RMS Errors\n",
    "\n",
    "Plot RMS errors of multiple solutions relative to a reference solution."
   ]
  },
  {
   "cell_type": "code",
   "execution_count": null,
   "metadata": {},
   "outputs": [],
   "source": [
    "runs_metadata = [\n",
    "    RunMetadata(data_dir / \"large_tokamak_1_MFILE.DAT\", \"large tokamak 1\"),\n",
    "    RunMetadata(data_dir / \"large_tokamak_2_MFILE.DAT\", \"large tokamak 2\"),\n",
    "    RunMetadata(data_dir / \"large_tokamak_3_MFILE.DAT\", \"large tokamak 3\"),\n",
    "    RunMetadata(data_dir / \"large_tokamak_4_MFILE.DAT\", \"large tokamak 4\"),\n",
    "]\n",
    "\n",
    "fig5, df5 = plot_mfile_solutions(\n",
    "    runs_metadata,\n",
    "    \"3 large tokamak solutions with RMS errors normalised to large tokamak 1\",\n",
    "    normalising_tag=\"large tokamak 1\",\n",
    "    rmse=True,\n",
    ")\n",
    "df5"
   ]
  },
  {
   "cell_type": "markdown",
   "metadata": {},
   "source": [
    "## Solutions normalised by range\n",
    "\n",
    "Use `nitvar` values instead; the solution optimisation parameters are normalised to the range of their upper and lower bounds."
   ]
  },
  {
   "cell_type": "code",
   "execution_count": null,
   "metadata": {},
   "outputs": [],
   "source": [
    "runs_metadata = [\n",
    "    RunMetadata(data_dir / \"large_tokamak_1_MFILE.DAT\", \"large tokamak 1\"),\n",
    "    RunMetadata(data_dir / \"large_tokamak_2_MFILE.DAT\", \"large tokamak 2\"),\n",
    "    RunMetadata(data_dir / \"large_tokamak_3_MFILE.DAT\", \"large tokamak 3\"),\n",
    "    RunMetadata(data_dir / \"large_tokamak_4_MFILE.DAT\", \"large tokamak 4\"),\n",
    "]\n",
    "\n",
    "fig6, df6 = plot_mfile_solutions(\n",
    "    runs_metadata,\n",
    "    \"4 large tokamak solutions normalised to the range of the optimisation parameters\",\n",
    "    normalisation_type=\"range\",\n",
    ")\n",
    "df6"
   ]
  },
  {
   "cell_type": "markdown",
   "metadata": {},
   "source": [
    "## Actual values"
   ]
  },
  {
   "cell_type": "code",
   "execution_count": null,
   "metadata": {},
   "outputs": [],
   "source": [
    "runs_metadata = [\n",
    "    RunMetadata(data_dir / \"large_tokamak_1_MFILE.DAT\", \"large tokamak 1\"),\n",
    "    RunMetadata(data_dir / \"large_tokamak_2_MFILE.DAT\", \"large tokamak 2\"),\n",
    "    RunMetadata(data_dir / \"large_tokamak_3_MFILE.DAT\", \"large tokamak 3\"),\n",
    "    RunMetadata(data_dir / \"large_tokamak_4_MFILE.DAT\", \"large tokamak 4\"),\n",
    "]\n",
    "\n",
    "fig7, df7 = plot_mfile_solutions(\n",
    "    runs_metadata,\n",
    "    \"Actual values of optimisation parameters for 4 large tokamak solutions\",\n",
    "    normalisation_type=None,\n",
    ")\n",
    "df7"
   ]
  },
  {
   "cell_type": "markdown",
   "metadata": {},
   "source": [
    "## Plot constraints\n",
    "Plot constraint values for 2 output mfiles."
   ]
  },
  {
   "cell_type": "code",
   "execution_count": null,
   "metadata": {},
   "outputs": [],
   "source": [
    "runs_metadata = [\n",
    "    RunMetadata(data_dir / \"large_tokamak_nof_MFILE.DAT\", \"large tokamak\"),\n",
    "    RunMetadata(data_dir / \"large_tokamak_nof_2_MFILE.DAT\", \"large tokamak 2\"),\n",
    "]\n",
    "\n",
    "fig, eval_df = plot_mfile_solutions_constraints(\n",
    "    runs_metadata=runs_metadata,\n",
    "    title=\"Constraint values at large tokamak solution\",\n",
    ")"
   ]
  },
  {
   "cell_type": "markdown",
   "metadata": {},
   "source": [
    "The constraint values are the actual constraint values, where a positive value corresponds to a satisfied constraint."
   ]
  }
 ],
 "metadata": {
  "kernelspec": {
   "display_name": ".venv",
   "language": "python",
   "name": "python3"
  },
  "language_info": {
   "codemirror_mode": {
    "name": "ipython",
    "version": 3
   },
   "file_extension": ".py",
   "mimetype": "text/x-python",
   "name": "python",
   "nbconvert_exporter": "python",
   "pygments_lexer": "ipython3",
   "version": "3.10.17"
  }
 },
 "nbformat": 4,
 "nbformat_minor": 2
}
