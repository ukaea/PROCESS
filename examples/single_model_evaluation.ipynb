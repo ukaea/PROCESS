{
 "cells": [
  {
   "cell_type": "markdown",
   "metadata": {},
   "source": [
    "# Evaluating a single PROCESS model\n",
    "When understanding or investigating an individual model within Process, it can be useful to run the model in isolation and plot some responses. This is done here to investigate the effect of tungsten impurity concentration on radiated power and power incident on the divertor."
   ]
  },
  {
   "cell_type": "code",
   "execution_count": null,
   "metadata": {},
   "outputs": [],
   "source": [
    "import matplotlib.pyplot as plt\n",
    "import numpy as np\n",
    "\n",
    "import process\n",
    "from process.main import SingleRun, setup_loggers\n",
    "\n",
    "# setup the loggers so that the output is not spammed with model errors/warnings\n",
    "setup_loggers()"
   ]
  },
  {
   "cell_type": "markdown",
   "metadata": {},
   "source": [
    "## Set up\n",
    "First, inspect a variable to check its uninitialised value:"
   ]
  },
  {
   "cell_type": "code",
   "execution_count": null,
   "metadata": {},
   "outputs": [],
   "source": [
    "print(\n",
    "    f\"p_plasma_separatrix_mw = {process.data_structure.physics_variables.p_plasma_separatrix_mw}\"\n",
    ")"
   ]
  },
  {
   "cell_type": "markdown",
   "metadata": {},
   "source": [
    "In order to initialise all variables in Process with their values at a given point (design parameter vector), run an evaluation input file (one with no optimisation) to initialise values in all models. The \"large tokamak\" regression test solution is used here."
   ]
  },
  {
   "cell_type": "code",
   "execution_count": null,
   "metadata": {},
   "outputs": [],
   "source": [
    "single_run = SingleRun(\"data/large_tokamak_eval_IN.DAT\")\n",
    "single_run.run()"
   ]
  },
  {
   "cell_type": "code",
   "execution_count": null,
   "metadata": {},
   "outputs": [],
   "source": [
    "# Kernel can crash when running physics without correctly initialised values\n",
    "# Doesn't crash after running a once-through\n",
    "# Print initial values of interest\n",
    "def print_values():\n",
    "    print(\n",
    "        f\"W frac = {process.data_structure.impurity_radiation_module.f_nd_impurity_electron_array[13]:.3e}\"\n",
    "    )\n",
    "    print(\n",
    "        f\"p_plasma_rad_mw = {process.data_structure.physics_variables.p_plasma_rad_mw:.3e}\"\n",
    "    )\n",
    "    print(\n",
    "        f\"p_plasma_separatrix_mw = {process.data_structure.physics_variables.p_plasma_separatrix_mw:.3e}\"\n",
    "    )\n",
    "\n",
    "\n",
    "print_values()"
   ]
  },
  {
   "cell_type": "markdown",
   "metadata": {},
   "source": [
    "Now try increasing the tungsten impurity fraction to see if there's a change in the divertor power."
   ]
  },
  {
   "cell_type": "code",
   "execution_count": null,
   "metadata": {},
   "outputs": [],
   "source": [
    "process.data_structure.impurity_radiation_module.f_nd_impurity_electron_array[13] = (\n",
    "    5.0e-5\n",
    ")\n",
    "single_run.models.physics.physics()\n",
    "print_values()"
   ]
  },
  {
   "cell_type": "markdown",
   "metadata": {},
   "source": [
    "With a higher W impurity fraction, the radiated power has increased and the power incident on the divertor has decreased.\n",
    "\n",
    "## Parameter study of W impurity\n",
    "Now investigate effect of varying W impurity on impurity radiation power, divertor power and constraint 15 (L-H threshold constraint)."
   ]
  },
  {
   "cell_type": "code",
   "execution_count": null,
   "metadata": {},
   "outputs": [],
   "source": [
    "from process.constraints import ConstraintManager\n",
    "\n",
    "\n",
    "def run_impurities(w_imp_fracs):\n",
    "    \"\"\"Calculate responses to W impurities.\"\"\"\n",
    "    n = w_imp_fracs.shape[0]\n",
    "    p_plasma_rad_mw = np.empty(n)\n",
    "    p_plasma_separatrix_mw = np.empty(n)\n",
    "    p_l_h_threshold_mw = np.empty(n)\n",
    "    con15 = np.empty(n)\n",
    "\n",
    "    # Loop over W impurity values, evaluate model and store responses at each point\n",
    "    for i, imp_frac in enumerate(w_imp_fracs):\n",
    "        # Set W impurity fraction, then run physics model\n",
    "        process.data_structure.impurity_radiation_module.f_nd_impurity_electron_array[\n",
    "            13\n",
    "        ] = imp_frac\n",
    "        single_run.models.physics.physics()\n",
    "\n",
    "        # Evaluate constraint equation 15 (L-H threshold constraint)\n",
    "        con15_value = ConstraintManager.evaluate_constraint(15).normalised_residual\n",
    "\n",
    "        # Need to copy values\n",
    "        p_plasma_rad_mw[i] = (\n",
    "            process.data_structure.physics_variables.p_plasma_rad_mw.item()\n",
    "        )\n",
    "        p_plasma_separatrix_mw[i] = (\n",
    "            process.data_structure.physics_variables.p_plasma_separatrix_mw.item()\n",
    "        )\n",
    "        p_l_h_threshold_mw[i] = (\n",
    "            process.data_structure.physics_variables.p_l_h_threshold_mw.item()\n",
    "        )\n",
    "        # Need to flip sign of constraint so negative means violated\n",
    "        con15[i] = -con15_value\n",
    "\n",
    "    return p_plasma_rad_mw, p_plasma_separatrix_mw, p_l_h_threshold_mw, con15"
   ]
  },
  {
   "cell_type": "code",
   "execution_count": null,
   "metadata": {},
   "outputs": [],
   "source": [
    "%matplotlib inline\n",
    "# Run W impurity parameter study\n",
    "w_imp_fracs = np.linspace(1.0e-6, 1.0e-4, 50)\n",
    "p_plasma_rad_mw, p_plasma_separatrix_mw, p_l_h_threshold_mw, con15 = run_impurities(\n",
    "    w_imp_fracs\n",
    ")\n",
    "\n",
    "fig, ax = plt.subplots()\n",
    "ax.scatter(w_imp_fracs, p_plasma_rad_mw, label=\"p_plasma_rad_mw\")\n",
    "ax.scatter(w_imp_fracs, p_plasma_separatrix_mw, label=\"p_plasma_separatrix_mw\")\n",
    "ax.plot(w_imp_fracs, p_l_h_threshold_mw, \"r\", label=\"p_l_h_threshold_mw\")\n",
    "ax.ticklabel_format(style=\"sci\", axis=\"x\", scilimits=(0, 0))\n",
    "ax.set_title(\"W impurity fraction against radiated and divertor power\")\n",
    "ax.set_xlabel(\"W impurity fraction\")\n",
    "ax.set_ylabel(\"Power (MW)\")\n",
    "ax.legend()"
   ]
  },
  {
   "cell_type": "markdown",
   "metadata": {},
   "source": [
    "How does the L-H threshold constraint vary?"
   ]
  },
  {
   "cell_type": "code",
   "execution_count": null,
   "metadata": {},
   "outputs": [],
   "source": [
    "%matplotlib inline\n",
    "fig, ax = plt.subplots()\n",
    "ax.scatter(w_imp_fracs, con15, label=\"con15\")\n",
    "ax.ticklabel_format(style=\"sci\", axis=\"x\", scilimits=(0, 0))\n",
    "ax.set_title(\"W impurity fraction against L-H threshold constraint (15)\")\n",
    "ax.set_xlabel(\"W impurity fraction\")\n",
    "ax.set_ylabel(\"L-H threshold constraint value\")\n",
    "ax.hlines(0.0, xmin=ax.get_xlim()[0], xmax=ax.get_xlim()[1], colors=\"r\")\n",
    "ax.annotate(\"Satisfied\", (0.0, 0.1))\n",
    "ax.annotate(\"Violated\", (0.0, -0.15))"
   ]
  },
  {
   "cell_type": "markdown",
   "metadata": {},
   "source": [
    "The constraint becomes violated for W fraction values $> 6\\times10^{-5}$.\n",
    "\n",
    "This can easily be modified to investigate behaviour of any model in Process in isolation, without running other models or optimising."
   ]
  }
 ],
 "metadata": {
  "kernelspec": {
   "display_name": ".venv",
   "language": "python",
   "name": "python3"
  },
  "language_info": {
   "codemirror_mode": {
    "name": "ipython",
    "version": 3
   },
   "file_extension": ".py",
   "mimetype": "text/x-python",
   "name": "python",
   "nbconvert_exporter": "python",
   "pygments_lexer": "ipython3",
   "version": "3.10.17"
  }
 },
 "nbformat": 4,
 "nbformat_minor": 2
}
