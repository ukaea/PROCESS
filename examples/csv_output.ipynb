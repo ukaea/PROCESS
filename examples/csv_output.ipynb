{
 "cells": [
  {
   "cell_type": "markdown",
   "metadata": {
    "slideshow": {
     "slide_type": "slide"
    }
   },
   "source": [
    "# Output to csv\n",
    "\n",
    "Routine to read from a PROCESS MFILE and write specified values into a csv.\n",
    "\n",
    "Input files:\n",
    "- MFILE.DAT as output from PROCESS\n",
    "- .json variable list as defined by user (defaults to local `mfile_to_csv_vars.json`)\n",
    "\n",
    "Instructions:\n",
    "- from command line: `python mfile_to_csv.py -f </path/to/mfile.dat> -v </path/to/varfile.json>`\n",
    "- from this Jupyter notebook: run the cell below\n",
    "\n",
    "Output file:\n",
    "- .csv will be saved to the directory of the input file"
   ]
  },
  {
   "cell_type": "code",
   "execution_count": null,
   "metadata": {
    "slideshow": {
     "slide_type": "subslide"
    }
   },
   "outputs": [],
   "source": [
    "from pathlib import Path\n",
    "\n",
    "from process.io import mfile_to_csv\n",
    "\n",
    "# Project directory for example result file and default .json list;\n",
    "# not needed if you replace both target filepaths below.\n",
    "data_dir = Path(\"data\")\n",
    "# Replace this path/to/MFILE.DAT with your target file:\n",
    "mfilename = data_dir / \"csv_output_large_tokamak_MFILE.DAT\"\n",
    "\n",
    "# Either replace this with your own path/to/file.json target,\n",
    "# or add your required variables into the identified file:\n",
    "varfilename = data_dir / \"mfile_to_csv_vars.json\"\n",
    "# This routine attempts to find every variable in the given list and\n",
    "# writes the variable name, description and value to the output csv.\n",
    "# Any listed variable that isn't in that MFILE will be skipped.\n",
    "\n",
    "# call to function:\n",
    "mfile_to_csv.main(args=[\"-f\", str(mfilename), \"-v\", str(varfilename)])"
   ]
  }
 ],
 "metadata": {
  "celltoolbar": "Slideshow",
  "kernelspec": {
   "display_name": ".venv",
   "language": "python",
   "name": "python3"
  },
  "language_info": {
   "codemirror_mode": {
    "name": "ipython",
    "version": 3
   },
   "file_extension": ".py",
   "mimetype": "text/x-python",
   "name": "python",
   "nbconvert_exporter": "python",
   "pygments_lexer": "ipython3"
  }
 },
 "nbformat": 4,
 "nbformat_minor": 2
}
