{
 "cells": [
  {
   "cell_type": "markdown",
   "metadata": {
    "slideshow": {
     "slide_type": "slide"
    }
   },
   "source": [
    "# Output to csv\n",
    "\n",
    "Routine to read from a PROCESS MFILE and write specified values into a csv.\n",
    "\n",
    "Input files:\n",
    "- MFILE.DAT as output from PROCESS\n",
    "- .json variable list as defined by user (defaults to local `mfile_to_csv_vars.json`)\n",
    "\n",
    "Instructions:\n",
    "- from command line: `python mfile_to_csv.py -f </path/to/mfile.dat> -v </path/to/varfile.json>`\n",
    "- from this Jupyter notebook: run the cell below\n",
    "\n",
    "Output file:\n",
    "- .csv will be saved to the directory of the input file"
   ]
  },
  {
   "cell_type": "code",
   "execution_count": 1,
   "metadata": {
    "slideshow": {
     "slide_type": "subslide"
    }
   },
   "outputs": [
    {
     "name": "stdout",
     "output_type": "stream",
     "text": [
      "Fetching list of variables from /home/clair/development/PROCESS/process/io/mfile_to_csv_vars.json\n",
      "Reading from MFILE: /home/clair/development/PROCESS/examples/csv_output_large_tokamak_MFILE.DAT\n",
      "Writing to csv file: /home/clair/development/PROCESS/examples/csv_output_large_tokamak_MFILE.csv\n",
      "Complete.\n"
     ]
    }
   ],
   "source": [
    "from pathlib import Path\n",
    "from process.io import mfile_to_csv\n",
    "\n",
    "# Project directory for example result file and default .json list;\n",
    "# not needed if you replace both target filepaths below.\n",
    "proj_dir = Path.cwd().parent\n",
    "\n",
    "# Replace this path/to/MFILE.DAT with your target file:\n",
    "mfilename = proj_dir / \"examples/csv_output_large_tokamak_MFILE.DAT\"\n",
    "\n",
    "# Either replace this with your own path/to/file.json target,\n",
    "# or add your required variables into the identified file:\n",
    "varfilename = proj_dir / \"process/io/mfile_to_csv_vars.json\"\n",
    "# This routine attempts to find every variable in the given list and\n",
    "# writes the variable name, description and value to the output csv.\n",
    "# Any listed variable that isn't in that MFILE will be skipped.\n",
    "\n",
    "# call to function:\n",
    "mfile_to_csv.main(args=[\"-f\", str(mfilename), \"-v\", str(varfilename)])"
   ]
  },
  {
   "cell_type": "code",
   "execution_count": null,
   "metadata": {},
   "outputs": [],
   "source": []
  }
 ],
 "metadata": {
  "celltoolbar": "Slideshow",
  "interpreter": {
   "hash": "2b39e51c046bf6c3306ffb86d6add9e7c858c4c325822baa27448d1520edb182"
  },
  "kernelspec": {
   "display_name": "Python 3.8.5 64-bit ('env': venv)",
   "language": "python",
   "name": "python3"
  },
  "language_info": {
   "codemirror_mode": {
    "name": "ipython",
    "version": 3
   },
   "file_extension": ".py",
   "mimetype": "text/x-python",
   "name": "python",
   "nbconvert_exporter": "python",
   "pygments_lexer": "ipython3",
   "version": "3.10.12"
  }
 },
 "nbformat": 4,
 "nbformat_minor": 2
}
