{
 "cells": [
  {
   "cell_type": "markdown",
   "metadata": {},
   "source": [
    "# Introduction to running PROCESS\n",
    "\n",
    "A Jupyter notebook to demonstrate usage of the `process` package.\n",
    "\n",
    "## Motivation\n",
    "Process is moving away from being a runnable package with a single command-line entry-point to an importable package which can be scripted. This notebook is a good way of demonstrating the functionality of the package, and could provide a better way of working for modellers, who may wish to create their own scripts or notebooks for different tasks.\n",
    "\n",
    "## Setup\n",
    "Currently the various classes and \"utilities\" scripts in Process have different interfaces and read and write files in differing manners and in locations that can't be easily controlled. To partially avoid the headaches associated with this, the code cell below defines a function to allow each example to be run in a temporary directory, much like a test. Input files are copied to this temporary directory and outputs contained there before the directory is removed.\n",
    "\n",
    "This temporary directory function is only required for running the examples below and removing any modifications afterwards, not in regular use of Process where the outputs will want to be preserved. Further development work will unify these disparate ways of running Process into a common Pythonic form."
   ]
  },
  {
   "cell_type": "code",
   "execution_count": null,
   "metadata": {},
   "outputs": [],
   "source": [
    "%load_ext autoreload\n",
    "%autoreload 2\n",
    "from pathlib import Path\n",
    "from shutil import copy\n",
    "from tempfile import TemporaryDirectory\n",
    "\n",
    "# Define project root dir; when running a notebook, the cwd is the dir the notebook is in\n",
    "PROJ_DIR = Path.cwd().parent\n",
    "\n",
    "\n",
    "def copy_to_temp_dir(input_rel):\n",
    "    \"\"\"Copy an input file to a new temp dir and return its new path.\n",
    "\n",
    "    The new TemporaryDirectory object is returned to avoid destruction of the\n",
    "    object, which results in deletion of the directory prematurely. This way\n",
    "    the cleanup() method can be used to delete the directory when required.\n",
    "    :param input_rel: file path relative to project root dir\n",
    "    :type input_rel: str\n",
    "    :return: temporary dir and absolute path to file in temp dir\n",
    "    :rtype: (TemporaryDirectory, pathlib.Path)\n",
    "    \"\"\"\n",
    "    # Create temporary dir to contain the run's outputs\n",
    "    temp_dir = TemporaryDirectory()\n",
    "    temp_dir_path = Path(temp_dir.name)\n",
    "\n",
    "    # Define absolute path for input file\n",
    "    input_rel_path = Path(input_rel)\n",
    "    input_abs_path = PROJ_DIR / input_rel_path\n",
    "\n",
    "    try:\n",
    "        assert input_abs_path.exists()\n",
    "    except AssertionError as err:\n",
    "        raise FileNotFoundError(\"Input file doesn't exist.\") from err\n",
    "\n",
    "    # Copy input file to temp dir\n",
    "    copy(input_abs_path, temp_dir_path)\n",
    "    temp_input_path = temp_dir_path / input_abs_path.name\n",
    "\n",
    "    return temp_dir, temp_input_path"
   ]
  },
  {
   "cell_type": "markdown",
   "metadata": {},
   "source": [
    "\n",
    "## Basic run of Process\n",
    "Run Process on an input file using the `SingleRun` class. This outputs an `MFILE.DAT` and an `OUT.DAT`."
   ]
  },
  {
   "cell_type": "code",
   "execution_count": null,
   "metadata": {},
   "outputs": [],
   "source": [
    "from process.main import SingleRun, setup_loggers\n",
    "\n",
    "# setup the loggers so that the output is not spammed with model errors/warnings\n",
    "setup_loggers()\n",
    "\n",
    "# Define input file name relative to project dir, then copy to temp dir\n",
    "script_dir = Path(\"__file__\").parent.resolve()\n",
    "input_rel = script_dir / \"data/large_tokamak_IN.DAT\"\n",
    "\n",
    "temp_dir, temp_input_path = copy_to_temp_dir(input_rel)\n",
    "\n",
    "# Run process on an input file in a temporary directory\n",
    "single_run = SingleRun(str(temp_input_path))\n",
    "single_run.run()"
   ]
  },
  {
   "cell_type": "markdown",
   "metadata": {},
   "source": [
    "## Plot summary\n",
    "Create a summary PDF of the generated `MFILE.DAT` using `plot_proc`."
   ]
  },
  {
   "cell_type": "code",
   "execution_count": null,
   "metadata": {},
   "outputs": [],
   "source": [
    "import subprocess\n",
    "\n",
    "from pdf2image import convert_from_path\n",
    "\n",
    "from process.io import plot_proc\n",
    "\n",
    "# plot_proc uses command line arguments of the current process. Jupyter adds command line arguments under the hood causing plot_proc to fail. running plot proc in its own process isolates it from the jupyter command line arguments\n",
    "subprocess.run([\"python\", plot_proc.__file__, \"-f\", str(single_run.mfile_path)])\n",
    "\n",
    "# Create a summary PDF\n",
    "# Convert PDF to PNG in order to display in notebook\n",
    "summary_pdf = str(single_run.mfile_path) + \"SUMMARY.pdf\"\n",
    "print(summary_pdf)\n",
    "pages = convert_from_path(summary_pdf)\n",
    "for page_no, page_image in enumerate(pages):\n",
    "    png_path = script_dir / f\"plot_proc_{page_no + 1}.png\"\n",
    "    page_image.save(png_path, \"PNG\")"
   ]
  },
  {
   "cell_type": "markdown",
   "metadata": {},
   "source": [
    "`plot_proc`'s PDF output."
   ]
  },
  {
   "cell_type": "code",
   "execution_count": null,
   "metadata": {},
   "outputs": [],
   "source": [
    "from IPython.display import display  # noqa: A004\n",
    "from PIL import Image\n",
    "\n",
    "img1 = Image.open(\"plot_proc_1.png\")\n",
    "display(img1)\n",
    "img2 = Image.open(\"plot_proc_2.png\")\n",
    "display(img2)\n",
    "img3 = Image.open(\"plot_proc_3.png\")\n",
    "display(img3)"
   ]
  },
  {
   "cell_type": "code",
   "execution_count": null,
   "metadata": {},
   "outputs": [],
   "source": [
    "# Delete temp dir\n",
    "temp_dir.cleanup()"
   ]
  },
  {
   "cell_type": "markdown",
   "metadata": {},
   "source": [
    "## View key output variables\n",
    "Run the large tokamak scenario using `SingleRun` to set some values on the `CostModel` instance and then print them."
   ]
  },
  {
   "cell_type": "code",
   "execution_count": null,
   "metadata": {},
   "outputs": [],
   "source": [
    "# Define input file name relative to project dir\n",
    "input_rel = script_dir / \"data/large_tokamak_IN.DAT\"\n",
    "print(input_rel)\n",
    "temp_dir, temp_input_path = copy_to_temp_dir(input_rel)\n",
    "\n",
    "# Run process on an input file\n",
    "single_run = SingleRun(str(temp_input_path))\n",
    "single_run.run()"
   ]
  },
  {
   "cell_type": "code",
   "execution_count": null,
   "metadata": {},
   "outputs": [],
   "source": [
    "import process.data_structure\n",
    "\n",
    "# Print some values on the CostModel instance\n",
    "print(f\"Heat transport system: {process.data_structure.cost_variables.c226:.3e} M$\")\n",
    "print(f\"Electrical plant equipment: {process.data_structure.cost_variables.c24:.3e} M$\")"
   ]
  },
  {
   "cell_type": "code",
   "execution_count": null,
   "metadata": {},
   "outputs": [],
   "source": [
    "# Clean up\n",
    "temp_dir.cleanup()"
   ]
  },
  {
   "cell_type": "markdown",
   "metadata": {},
   "source": [
    "## VaryRun\n",
    "Vary iteration parameters until a feasible solution is found, using the `VaryRun` class."
   ]
  },
  {
   "cell_type": "code",
   "execution_count": null,
   "metadata": {},
   "outputs": [],
   "source": [
    "import os\n",
    "\n",
    "from process.main import VaryRun\n",
    "\n",
    "input_rel = script_dir / \"data/run_process.conf\"\n",
    "temp_dir, temp_input_path = copy_to_temp_dir(input_rel)\n",
    "\n",
    "# .conf file relies on a separate input file too; copy this as well\n",
    "# TODO This double input file requirement needs to be removed\n",
    "input_rel_2 = script_dir / \"data/large_tokamak_IN.DAT\"\n",
    "copy(PROJ_DIR / input_rel_2, temp_dir.name)\n",
    "\n",
    "# VaryRun uses process_config.py, which changes the current working directory\n",
    "# via os.chdir() to the temporary dir. Apart from being bad practice, once the\n",
    "# temp dir is removed, this causes Path.cwd() (as used in plot_scans.py) to\n",
    "# throw an exception when trying to return the (now deleted) CWD. Hence it\n",
    "# needs to be set back after VaryRun()\n",
    "# TODO Remove the os.chdir() from VaryRun\n",
    "cwd = Path.cwd()\n",
    "\n",
    "vary_run = VaryRun(str(temp_input_path))\n",
    "vary_run.run()\n",
    "os.chdir(cwd)\n",
    "\n",
    "temp_dir.cleanup()"
   ]
  },
  {
   "cell_type": "markdown",
   "metadata": {},
   "source": [
    "## Plot scan\n",
    "Plot a scanned MFILE."
   ]
  },
  {
   "cell_type": "code",
   "execution_count": null,
   "metadata": {},
   "outputs": [],
   "source": [
    "%matplotlib inline\n",
    "\n",
    "from process.io import plot_scans\n",
    "\n",
    "# Define working directory relative to project dir and input file name\n",
    "input_rel = script_dir / \"data/scan_MFILE.DAT\"\n",
    "temp_dir, temp_input_path = copy_to_temp_dir(input_rel)\n",
    "\n",
    "plot_scans.main(\n",
    "    args=[\n",
    "        \"-f\",\n",
    "        str(temp_input_path),\n",
    "        \"-yv\",\n",
    "        \"dx_tf_turn_steel\",\n",
    "        \"--outputdir\",\n",
    "        str(temp_input_path.parent),\n",
    "    ]\n",
    ")\n",
    "\n",
    "temp_dir.cleanup()"
   ]
  }
 ],
 "metadata": {
  "kernelspec": {
   "language": "python",
   "name": "python3"
  },
  "language_info": {
   "codemirror_mode": {
    "name": "ipython",
    "version": 3
   },
   "file_extension": ".py",
   "mimetype": "text/x-python",
   "name": "python",
   "nbconvert_exporter": "python",
   "pygments_lexer": "ipython3"
  }
 },
 "nbformat": 4,
 "nbformat_minor": 2
}
