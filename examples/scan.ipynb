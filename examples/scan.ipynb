{
 "cells": [
  {
   "attachments": {},
   "cell_type": "markdown",
   "metadata": {
    "slideshow": {
     "slide_type": "slide"
    }
   },
   "source": [
    "# Running and visualising a PROCESS scan\n",
    "\n",
    "Perform a parameter scan for a given input file and plot the results.\n",
    "\n",
    "## Scan details\n",
    "\n",
    "The input file is a scan-enabled version of the large tokamak `IN.DAT`, as found in the `tests` directory. The scan-relevant values are:\n",
    "```\n",
    "nsweep = 17 * b_tf_inboard_max, maximum peak toroidal field (T) (`constraint equation 25`)\n",
    "isweep = 6\n",
    "sweep = 11., 11.2, 11.4, 11.6, 11.8, 12.\n",
    "```\n",
    "\n",
    "- `nsweep`: integer denoting the variable to scan (see `scan_module` for options). Here `17` corresponds to `b_tf_inboard_max` being scanned\n",
    "- `isweep`: the number of scan points to run\n",
    "- `sweep`: array of values for the scanned variable to take; one for each run. Should be of length `isweep`"
   ]
  },
  {
   "cell_type": "code",
   "execution_count": null,
   "metadata": {
    "slideshow": {
     "slide_type": "subslide"
    }
   },
   "outputs": [],
   "source": [
    "from pathlib import Path\n",
    "\n",
    "from process.main import SingleRun\n",
    "\n",
    "data_dir = Path(\"data\")\n",
    "input_name = data_dir / \"scan_example_file_IN.DAT\"\n",
    "# Perform a SingleRun on a scan-enabled input file\n",
    "single_run = SingleRun(str(input_name), solver=\"vmcon_bounded\")\n",
    "single_run.run()"
   ]
  },
  {
   "attachments": {},
   "cell_type": "markdown",
   "metadata": {
    "slideshow": {
     "slide_type": "slide"
    }
   },
   "source": [
    "## Plot scan results\n",
    "Use `plot_scans.py` to plot the resulting `MFILE.DAT`."
   ]
  },
  {
   "cell_type": "code",
   "execution_count": null,
   "metadata": {
    "slideshow": {
     "slide_type": "subslide"
    }
   },
   "outputs": [],
   "source": [
    "%matplotlib inline\n",
    "from process.io import plot_scans\n",
    "\n",
    "# Define working directory relative to project dir and input file name\n",
    "mfile_name = data_dir / \"scan_example_file_MFILE.DAT\"\n",
    "output_dir = data_dir\n",
    "\n",
    "plot_scans.main(\n",
    "    args=[\n",
    "        \"-f\",\n",
    "        str(mfile_name),\n",
    "        \"-yv\",\n",
    "        \"bt rmajor p_plant_electric_net_mw p_fusion_total_mw capcost\",\n",
    "        \"--outputdir\",\n",
    "        str(output_dir),\n",
    "    ]\n",
    ")"
   ]
  }
 ],
 "metadata": {
  "celltoolbar": "Slideshow",
  "interpreter": {
   "hash": "95e8614a6e18ad6e528160ac32f08bcfa19db99daf3816cbd89c3976c3924301"
  },
  "kernelspec": {
   "display_name": "Python 3 (ipykernel)",
   "language": "python",
   "name": "python3"
  },
  "language_info": {
   "codemirror_mode": {
    "name": "ipython",
    "version": 3
   },
   "file_extension": ".py",
   "mimetype": "text/x-python",
   "name": "python",
   "nbconvert_exporter": "python",
   "pygments_lexer": "ipython3",
   "version": "3.10.12"
  }
 },
 "nbformat": 4,
 "nbformat_minor": 2
}
