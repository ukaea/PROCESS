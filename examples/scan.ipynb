{
 "cells": [
  {
   "attachments": {},
   "cell_type": "markdown",
   "metadata": {
    "slideshow": {
     "slide_type": "slide"
    }
   },
   "source": [
    "# Example scan\n",
    "\n",
    "Perform a parameter scan for a given input file and plot the results.\n",
    "\n",
    "## Scan details\n",
    "\n",
    "The input file is a scan-enabled version of the large tokamak `IN.DAT`, as found in the `tests` directory. The scan-relevant values are:\n",
    "```\n",
    "nsweep = 17 * bmxlim, maximum peak toroidal field (T) (`constraint equation 25`)\n",
    "isweep = 11\n",
    "sweep = 11., 11.2, 11.4, 11.6, 11.8, 12., 12.2, 12.4, 12.6, 12.8, 13.\n",
    "```\n",
    "\n",
    "- `nsweep`: integer denoting the variable to scan (see `scan_module` for options). Here `17` corresponds to `bmxlim` being scanned\n",
    "- `isweep`: the number of scan points to run\n",
    "- `sweep`: array of values for the scanned variable to take; one for each run. Should be of length `isweep`"
   ]
  },
  {
   "cell_type": "code",
   "execution_count": 1,
   "metadata": {
    "slideshow": {
     "slide_type": "subslide"
    }
   },
   "outputs": [
    {
     "name": "stdout",
     "output_type": "stream",
     "text": [
      "The IN.DAT file does not contain any obsolete variables.\n",
      " tmargmin_cs and tmargmin should not both be specified in IN.DAT.\n",
      " tmargmin_cs has been ignored.\n",
      " \n",
      " **************************************************************************************************************\n",
      " ************************************************** PROCESS ***************************************************\n",
      " ************************************** Power Reactor Optimisation Code ***************************************\n",
      " **************************************************************************************************************\n",
      " \n",
      "   Program :\n",
      "   Version : 3.0.2   Release Date :: 2024-01-25\n",
      "   Tag No. : v3.0.2-41-g156db60 code contains untracked changes\n",
      "    Branch : 3071-investigate-scan-x-failure\n",
      "   Git log : adding VmconBounded class to solver.py\n",
      " Date/time :  1 May 2024  9:50:41 +01:00(hh:mm) UTC\n",
      "      User : clair\n",
      "  Computer : clair-Precision-3570\n",
      " Directory : /home/clair/development/PROCESS/examples\n",
      "     Input : /home/clair/development/PROCESS/examples/a_scan_input_file_IN.DAT\n",
      " Run title : Generic large tokamak\n",
      "  Run type : Reactor concept design: Pulsed tokamak model, (c) CCFE\n",
      " \n",
      " **************************************************************************************************************\n",
      " \n",
      "   Equality constraints : 26\n",
      " Inequality constraints : 00\n",
      "      Total constraints : 26\n",
      "    Iteration variables : 44\n",
      "         Max iterations : 200\n",
      "       Figure of merit  : +01  -- minimise major radius.\n",
      "  Convergence parameter : 1.00E-07\n",
      " \n",
      " **************************************************************************************************************\n",
      "Starting scan point  1: Max_toroidal_field_(T), bmxlim =  1.100E+01\n",
      "7 | Convergence Parameter: 7.644E-12\n",
      " \n",
      " ************************************* PROCESS found a feasible solution **************************************\n",
      " \n",
      " Warning in routine OCMMNT :\n",
      "Triple product = Vol-average electron density x Vol-average         & electron temperature x Energy confinement time:\n",
      "This is longer than 110 columns.\n",
      "Starting scan point  2: Max_toroidal_field_(T), bmxlim =  1.120E+01\n",
      "2 | Convergence Parameter: 3.999E-09\n",
      " \n",
      " ************************************* PROCESS found a feasible solution **************************************\n",
      " \n",
      " Warning in routine OCMMNT :\n",
      "Triple product = Vol-average electron density x Vol-average         & electron temperature x Energy confinement time:\n",
      "This is longer than 110 columns.\n",
      "Starting scan point  3: Max_toroidal_field_(T), bmxlim =  1.140E+01\n",
      "2 | Convergence Parameter: 3.481E-09\r"
     ]
    },
    {
     "name": "stderr",
     "output_type": "stream",
     "text": [
      "x is initially in an infeasible region because at least one x is greater than an upper bound. The out of bounds variables are at indices 4, 18 (0-based indexing)\n",
      "process.solver - WARNING - Active iteration variables are : \n",
      "0: beta \n",
      "1: dene \n",
      "2: fwalld \n",
      "3: ffuspow \n",
      "4: ftburn \n",
      "5: flhthresh \n",
      "6: fpinj \n",
      "7: fpnetel \n",
      "8: fbetatry \n",
      "9: fpeakb \n",
      "10: coheof \n",
      "11: fjohc \n",
      "12: fjohc0 \n",
      "13: fcohbop \n",
      "14: fiooic \n",
      "15: fvdump \n",
      "16: fjprot \n",
      "17: ftmargtf \n",
      "18: ftmargoh \n",
      "19: ftaulimit \n",
      "20: fmaxvvstress \n",
      "21: foh_stress \n",
      "22: fne0 \n",
      "23: fpsepbqar \n",
      "24: fstrcase \n",
      "25: fstrcond \n",
      "26: bt \n",
      "27: rmajor \n",
      "28: te \n",
      "29: hfact \n",
      "30: tfcth \n",
      "31: ohcth \n",
      "32: q \n",
      "33: bore \n",
      "34: fvsbrnni \n",
      "35: tdmptf \n",
      "36: thkcas \n",
      "37: thwcndut \n",
      "38: fcutfsu \n",
      "39: cpttf \n",
      "40: ralpne \n",
      "41: oh_steel_frac \n",
      "42: fimp(13) \n",
      "43: dr_tf_wp \n",
      "\n"
     ]
    },
    {
     "name": "stdout",
     "output_type": "stream",
     "text": [
      "\n",
      " \n",
      " ************************************* PROCESS found a feasible solution **************************************\n",
      " \n",
      " Warning in routine OCMMNT :\n",
      "Triple product = Vol-average electron density x Vol-average         & electron temperature x Energy confinement time:\n",
      "This is longer than 110 columns.\n",
      "Starting scan point  4: Max_toroidal_field_(T), bmxlim =  1.160E+01\n"
     ]
    },
    {
     "ename": "ValueError",
     "evalue": "x is initially in an infeasible region because at least one x is greater than an upper bound",
     "output_type": "error",
     "traceback": [
      "\u001b[0;31m---------------------------------------------------------------------------\u001b[0m",
      "\u001b[0;31mValueError\u001b[0m                                Traceback (most recent call last)",
      "Cell \u001b[0;32mIn[1], line 9\u001b[0m\n\u001b[1;32m      7\u001b[0m \u001b[38;5;66;03m# Perform a SingleRun on a scan-enabled input file\u001b[39;00m\n\u001b[1;32m      8\u001b[0m single_run \u001b[38;5;241m=\u001b[39m SingleRun(\u001b[38;5;28mstr\u001b[39m(input_name))\u001b[38;5;66;03m#, solver=\"vmcon_bounded\")\u001b[39;00m\n\u001b[0;32m----> 9\u001b[0m \u001b[43msingle_run\u001b[49m\u001b[38;5;241;43m.\u001b[39;49m\u001b[43mrun\u001b[49m\u001b[43m(\u001b[49m\u001b[43m)\u001b[49m\n",
      "File \u001b[0;32m~/development/PROCESS/process/main.py:363\u001b[0m, in \u001b[0;36mSingleRun.run\u001b[0;34m(self)\u001b[0m\n\u001b[1;32m    361\u001b[0m \u001b[38;5;28mself\u001b[39m\u001b[38;5;241m.\u001b[39mrun_tests()\n\u001b[1;32m    362\u001b[0m \u001b[38;5;28mself\u001b[39m\u001b[38;5;241m.\u001b[39mcall_solver()\n\u001b[0;32m--> 363\u001b[0m \u001b[38;5;28;43mself\u001b[39;49m\u001b[38;5;241;43m.\u001b[39;49m\u001b[43mrun_scan\u001b[49m\u001b[43m(\u001b[49m\u001b[38;5;28;43mself\u001b[39;49m\u001b[38;5;241;43m.\u001b[39;49m\u001b[43msolver\u001b[49m\u001b[43m)\u001b[49m\n\u001b[1;32m    364\u001b[0m \u001b[38;5;28mself\u001b[39m\u001b[38;5;241m.\u001b[39mshow_errors()\n\u001b[1;32m    365\u001b[0m \u001b[38;5;28mself\u001b[39m\u001b[38;5;241m.\u001b[39mfinish()\n",
      "File \u001b[0;32m~/development/PROCESS/process/main.py:459\u001b[0m, in \u001b[0;36mSingleRun.run_scan\u001b[0;34m(self, solver)\u001b[0m\n\u001b[1;32m    453\u001b[0m \u001b[38;5;250m\u001b[39m\u001b[38;5;124;03m\"\"\"Create scan object if required.\u001b[39;00m\n\u001b[1;32m    454\u001b[0m \n\u001b[1;32m    455\u001b[0m \u001b[38;5;124;03m:param solver: which solver to use, as specified in solver.py\u001b[39;00m\n\u001b[1;32m    456\u001b[0m \u001b[38;5;124;03m:type solver: str\u001b[39;00m\n\u001b[1;32m    457\u001b[0m \u001b[38;5;124;03m\"\"\"\u001b[39;00m\n\u001b[1;32m    458\u001b[0m \u001b[38;5;28;01mif\u001b[39;00m fortran\u001b[38;5;241m.\u001b[39mnumerics\u001b[38;5;241m.\u001b[39mioptimz \u001b[38;5;241m>\u001b[39m\u001b[38;5;241m=\u001b[39m \u001b[38;5;241m0\u001b[39m:\n\u001b[0;32m--> 459\u001b[0m     \u001b[38;5;28mself\u001b[39m\u001b[38;5;241m.\u001b[39mscan \u001b[38;5;241m=\u001b[39m \u001b[43mScan\u001b[49m\u001b[43m(\u001b[49m\u001b[38;5;28;43mself\u001b[39;49m\u001b[38;5;241;43m.\u001b[39;49m\u001b[43mmodels\u001b[49m\u001b[43m,\u001b[49m\u001b[43m \u001b[49m\u001b[43msolver\u001b[49m\u001b[43m)\u001b[49m\n\u001b[1;32m    460\u001b[0m \u001b[38;5;28;01melse\u001b[39;00m:\n\u001b[1;32m    461\u001b[0m     \u001b[38;5;66;03m# If no optimisation will be done, compute the OP variables now\u001b[39;00m\n\u001b[1;32m    462\u001b[0m     \u001b[38;5;28;01mif\u001b[39;00m fortran\u001b[38;5;241m.\u001b[39mnumerics\u001b[38;5;241m.\u001b[39mioptimz \u001b[38;5;241m==\u001b[39m \u001b[38;5;241m-\u001b[39m\u001b[38;5;241m2\u001b[39m:\n\u001b[1;32m    463\u001b[0m         \u001b[38;5;66;03m# Get optimisation parameters x, perform first evaluation of models\u001b[39;00m\n",
      "File \u001b[0;32m~/development/PROCESS/process/scan.py:24\u001b[0m, in \u001b[0;36mScan.__init__\u001b[0;34m(self, models, solver)\u001b[0m\n\u001b[1;32m     21\u001b[0m \u001b[38;5;28mself\u001b[39m\u001b[38;5;241m.\u001b[39moptimiser \u001b[38;5;241m=\u001b[39m Optimiser(models, solver)\n\u001b[1;32m     23\u001b[0m \u001b[38;5;66;03m# set_opt_params = deepcopy(self.optimiser.solver.set_opt_params)\u001b[39;00m\n\u001b[0;32m---> 24\u001b[0m \u001b[38;5;28;43mself\u001b[39;49m\u001b[38;5;241;43m.\u001b[39;49m\u001b[43mrun_scan\u001b[49m\u001b[43m(\u001b[49m\u001b[43m)\u001b[49m\n",
      "File \u001b[0;32m~/development/PROCESS/process/scan.py:51\u001b[0m, in \u001b[0;36mScan.run_scan\u001b[0;34m(self)\u001b[0m\n\u001b[1;32m     49\u001b[0m     \u001b[38;5;28mself\u001b[39m\u001b[38;5;241m.\u001b[39mscan_2d()\n\u001b[1;32m     50\u001b[0m \u001b[38;5;28;01melse\u001b[39;00m:\n\u001b[0;32m---> 51\u001b[0m     \u001b[38;5;28;43mself\u001b[39;49m\u001b[38;5;241;43m.\u001b[39;49m\u001b[43mscan_1d\u001b[49m\u001b[43m(\u001b[49m\u001b[43m)\u001b[49m\n",
      "File \u001b[0;32m~/development/PROCESS/process/scan.py:76\u001b[0m, in \u001b[0;36mScan.scan_1d\u001b[0;34m(self)\u001b[0m\n\u001b[1;32m     74\u001b[0m \u001b[38;5;28;01mfor\u001b[39;00m iscan \u001b[38;5;129;01min\u001b[39;00m \u001b[38;5;28mrange\u001b[39m(\u001b[38;5;241m1\u001b[39m, scan_module\u001b[38;5;241m.\u001b[39misweep \u001b[38;5;241m+\u001b[39m \u001b[38;5;241m1\u001b[39m):\n\u001b[1;32m     75\u001b[0m     scan_module\u001b[38;5;241m.\u001b[39mscan_1d_write_point_header(iscan)\n\u001b[0;32m---> 76\u001b[0m     ifail \u001b[38;5;241m=\u001b[39m \u001b[38;5;28;43mself\u001b[39;49m\u001b[38;5;241;43m.\u001b[39;49m\u001b[43mdoopt\u001b[49m\u001b[43m(\u001b[49m\u001b[43m)\u001b[49m\n\u001b[1;32m     78\u001b[0m     final\u001b[38;5;241m.\u001b[39mfinalise(\u001b[38;5;28mself\u001b[39m\u001b[38;5;241m.\u001b[39mmodels, ifail)\n\u001b[1;32m     80\u001b[0m     \u001b[38;5;66;03m# outvar is an intent(out) of scan_1d_store_output()\u001b[39;00m\n",
      "File \u001b[0;32m~/development/PROCESS/process/scan.py:59\u001b[0m, in \u001b[0;36mScan.doopt\u001b[0;34m(self)\u001b[0m\n\u001b[1;32m     56\u001b[0m \u001b[38;5;28;01mif\u001b[39;00m numerics\u001b[38;5;241m.\u001b[39mioptimz \u001b[38;5;241m<\u001b[39m \u001b[38;5;241m0\u001b[39m:\n\u001b[1;32m     57\u001b[0m     \u001b[38;5;28;01mreturn\u001b[39;00m\n\u001b[0;32m---> 59\u001b[0m ifail \u001b[38;5;241m=\u001b[39m \u001b[38;5;28;43mself\u001b[39;49m\u001b[38;5;241;43m.\u001b[39;49m\u001b[43moptimiser\u001b[49m\u001b[38;5;241;43m.\u001b[39;49m\u001b[43mrun\u001b[49m\u001b[43m(\u001b[49m\u001b[43m)\u001b[49m\n\u001b[1;32m     60\u001b[0m scan_module\u001b[38;5;241m.\u001b[39mpost_optimise(ifail)\n\u001b[1;32m     62\u001b[0m \u001b[38;5;28;01mreturn\u001b[39;00m ifail\n",
      "File \u001b[0;32m~/development/PROCESS/process/optimiser.py:55\u001b[0m, in \u001b[0;36mOptimiser.run\u001b[0;34m(self)\u001b[0m\n\u001b[1;32m     53\u001b[0m \u001b[38;5;28mself\u001b[39m\u001b[38;5;241m.\u001b[39msolver\u001b[38;5;241m.\u001b[39mset_bounds(bndl, bndu)\n\u001b[1;32m     54\u001b[0m \u001b[38;5;28mself\u001b[39m\u001b[38;5;241m.\u001b[39msolver\u001b[38;5;241m.\u001b[39mset_constraints(m, meq)\n\u001b[0;32m---> 55\u001b[0m ifail \u001b[38;5;241m=\u001b[39m \u001b[38;5;28;43mself\u001b[39;49m\u001b[38;5;241;43m.\u001b[39;49m\u001b[43msolver\u001b[49m\u001b[38;5;241;43m.\u001b[39;49m\u001b[43msolve\u001b[49m\u001b[43m(\u001b[49m\u001b[43m)\u001b[49m\n\u001b[1;32m     57\u001b[0m \u001b[38;5;66;03m# If fail then alter value of epsfcn - this can be improved\u001b[39;00m\n\u001b[1;32m     58\u001b[0m \u001b[38;5;28;01mif\u001b[39;00m ifail \u001b[38;5;241m!=\u001b[39m \u001b[38;5;241m1\u001b[39m:\n",
      "File \u001b[0;32m~/development/PROCESS/process/solver.py:214\u001b[0m, in \u001b[0;36mVmcon.solve\u001b[0;34m(self)\u001b[0m\n\u001b[1;32m    211\u001b[0m         itervar_name_list \u001b[38;5;241m+\u001b[39m\u001b[38;5;241m=\u001b[39m \u001b[38;5;124mf\u001b[39m\u001b[38;5;124m\"\u001b[39m\u001b[38;5;132;01m{\u001b[39;00mcount\u001b[38;5;132;01m}\u001b[39;00m\u001b[38;5;124m: \u001b[39m\u001b[38;5;132;01m{\u001b[39;00mitervar_name\u001b[38;5;132;01m}\u001b[39;00m\u001b[38;5;124m \u001b[39m\u001b[38;5;130;01m\\n\u001b[39;00m\u001b[38;5;124m\"\u001b[39m\n\u001b[1;32m    213\u001b[0m     logger\u001b[38;5;241m.\u001b[39mwarning(\u001b[38;5;124mf\u001b[39m\u001b[38;5;124m\"\u001b[39m\u001b[38;5;124mActive iteration variables are : \u001b[39m\u001b[38;5;130;01m\\n\u001b[39;00m\u001b[38;5;132;01m{\u001b[39;00mitervar_name_list\u001b[38;5;132;01m}\u001b[39;00m\u001b[38;5;124m\"\u001b[39m)\n\u001b[0;32m--> 214\u001b[0m     \u001b[38;5;28;01mraise\u001b[39;00m e\n\u001b[1;32m    216\u001b[0m \u001b[38;5;28;01melse\u001b[39;00m:\n\u001b[1;32m    217\u001b[0m     \u001b[38;5;28mself\u001b[39m\u001b[38;5;241m.\u001b[39minfo \u001b[38;5;241m=\u001b[39m \u001b[38;5;241m1\u001b[39m\n",
      "File \u001b[0;32m~/development/PROCESS/process/solver.py:183\u001b[0m, in \u001b[0;36mVmcon.solve\u001b[0;34m(self)\u001b[0m\n\u001b[1;32m    176\u001b[0m     \u001b[38;5;28mprint\u001b[39m(\n\u001b[1;32m    177\u001b[0m         \u001b[38;5;124mf\u001b[39m\u001b[38;5;124m\"\u001b[39m\u001b[38;5;132;01m{\u001b[39;00mi\u001b[38;5;241m+\u001b[39m\u001b[38;5;241m1\u001b[39m\u001b[38;5;132;01m}\u001b[39;00m\u001b[38;5;124m | Convergence Parameter: \u001b[39m\u001b[38;5;132;01m{\u001b[39;00mconvergence_param\u001b[38;5;132;01m:\u001b[39;00m\u001b[38;5;124m.3E\u001b[39m\u001b[38;5;132;01m}\u001b[39;00m\u001b[38;5;124m\"\u001b[39m,\n\u001b[1;32m    178\u001b[0m         end\u001b[38;5;241m=\u001b[39m\u001b[38;5;124m\"\u001b[39m\u001b[38;5;130;01m\\r\u001b[39;00m\u001b[38;5;124m\"\u001b[39m,\n\u001b[1;32m    179\u001b[0m         flush\u001b[38;5;241m=\u001b[39m\u001b[38;5;28;01mTrue\u001b[39;00m,\n\u001b[1;32m    180\u001b[0m     )\n\u001b[1;32m    182\u001b[0m \u001b[38;5;28;01mtry\u001b[39;00m:\n\u001b[0;32m--> 183\u001b[0m     x, _, _, res \u001b[38;5;241m=\u001b[39m \u001b[43msolve\u001b[49m\u001b[43m(\u001b[49m\n\u001b[1;32m    184\u001b[0m \u001b[43m        \u001b[49m\u001b[43mproblem\u001b[49m\u001b[43m,\u001b[49m\n\u001b[1;32m    185\u001b[0m \u001b[43m        \u001b[49m\u001b[38;5;28;43mself\u001b[39;49m\u001b[38;5;241;43m.\u001b[39;49m\u001b[43mx_0\u001b[49m\u001b[43m,\u001b[49m\n\u001b[1;32m    186\u001b[0m \u001b[43m        \u001b[49m\u001b[38;5;28;43mself\u001b[39;49m\u001b[38;5;241;43m.\u001b[39;49m\u001b[43mbndl\u001b[49m\u001b[43m,\u001b[49m\n\u001b[1;32m    187\u001b[0m \u001b[43m        \u001b[49m\u001b[38;5;28;43mself\u001b[39;49m\u001b[38;5;241;43m.\u001b[39;49m\u001b[43mbndu\u001b[49m\u001b[43m,\u001b[49m\n\u001b[1;32m    188\u001b[0m \u001b[43m        \u001b[49m\u001b[43mmax_iter\u001b[49m\u001b[38;5;241;43m=\u001b[39;49m\u001b[43mglobal_variables\u001b[49m\u001b[38;5;241;43m.\u001b[39;49m\u001b[43mmaxcal\u001b[49m\u001b[43m,\u001b[49m\n\u001b[1;32m    189\u001b[0m \u001b[43m        \u001b[49m\u001b[43mepsilon\u001b[49m\u001b[38;5;241;43m=\u001b[39;49m\u001b[38;5;28;43mself\u001b[39;49m\u001b[38;5;241;43m.\u001b[39;49m\u001b[43mtolerance\u001b[49m\u001b[43m,\u001b[49m\n\u001b[1;32m    190\u001b[0m \u001b[43m        \u001b[49m\u001b[43mqsp_options\u001b[49m\u001b[38;5;241;43m=\u001b[39;49m\u001b[43m{\u001b[49m\u001b[38;5;124;43m\"\u001b[39;49m\u001b[38;5;124;43meps_rel\u001b[39;49m\u001b[38;5;124;43m\"\u001b[39;49m\u001b[43m:\u001b[49m\u001b[43m \u001b[49m\u001b[38;5;241;43m1e-1\u001b[39;49m\u001b[43m,\u001b[49m\u001b[43m \u001b[49m\u001b[38;5;124;43m\"\u001b[39;49m\u001b[38;5;124;43madaptive_rho_interval\u001b[39;49m\u001b[38;5;124;43m\"\u001b[39;49m\u001b[43m:\u001b[49m\u001b[43m \u001b[49m\u001b[38;5;241;43m25\u001b[39;49m\u001b[43m}\u001b[49m\u001b[43m,\u001b[49m\n\u001b[1;32m    191\u001b[0m \u001b[43m        \u001b[49m\u001b[43minitial_B\u001b[49m\u001b[38;5;241;43m=\u001b[39;49m\u001b[43mB\u001b[49m\u001b[43m,\u001b[49m\n\u001b[1;32m    192\u001b[0m \u001b[43m        \u001b[49m\u001b[43mcallback\u001b[49m\u001b[38;5;241;43m=\u001b[39;49m\u001b[43m_solver_callback\u001b[49m\u001b[43m,\u001b[49m\n\u001b[1;32m    193\u001b[0m \u001b[43m    \u001b[49m\u001b[43m)\u001b[49m\n\u001b[1;32m    194\u001b[0m \u001b[38;5;28;01mexcept\u001b[39;00m VMCONConvergenceException \u001b[38;5;28;01mas\u001b[39;00m e:\n\u001b[1;32m    195\u001b[0m     \u001b[38;5;28;01mif\u001b[39;00m \u001b[38;5;28misinstance\u001b[39m(e, LineSearchConvergenceException):\n",
      "File \u001b[0;32m~/development/PROCESS/env/lib/python3.10/site-packages/pyvmcon/vmcon.py:96\u001b[0m, in \u001b[0;36msolve\u001b[0;34m(problem, x, lbs, ubs, max_iter, epsilon, qsp_options, initial_B, callback)\u001b[0m\n\u001b[1;32m     92\u001b[0m     msg \u001b[38;5;241m=\u001b[39m \u001b[38;5;124m\"\u001b[39m\u001b[38;5;124mx is initially in an infeasible region because at least one x is greater than an upper bound\u001b[39m\u001b[38;5;124m\"\u001b[39m  \u001b[38;5;66;03m# noqa: E501\u001b[39;00m\n\u001b[1;32m     93\u001b[0m     logger\u001b[38;5;241m.\u001b[39merror(\n\u001b[1;32m     94\u001b[0m         \u001b[38;5;124mf\u001b[39m\u001b[38;5;124m\"\u001b[39m\u001b[38;5;132;01m{\u001b[39;00mmsg\u001b[38;5;132;01m}\u001b[39;00m\u001b[38;5;124m. The out of bounds variables are at indices \u001b[39m\u001b[38;5;132;01m{\u001b[39;00m\u001b[38;5;124m'\u001b[39m\u001b[38;5;124m, \u001b[39m\u001b[38;5;124m'\u001b[39m\u001b[38;5;241m.\u001b[39mjoin(_find_out_of_bounds_vars(ubs,\u001b[38;5;250m \u001b[39mx))\u001b[38;5;132;01m}\u001b[39;00m\u001b[38;5;124m (0-based indexing)\u001b[39m\u001b[38;5;124m\"\u001b[39m  \u001b[38;5;66;03m# noqa: E501\u001b[39;00m\n\u001b[1;32m     95\u001b[0m     )\n\u001b[0;32m---> 96\u001b[0m     \u001b[38;5;28;01mraise\u001b[39;00m \u001b[38;5;167;01mValueError\u001b[39;00m(msg)\n\u001b[1;32m     98\u001b[0m \u001b[38;5;66;03m# n is denoted in the VMCON paper\u001b[39;00m\n\u001b[1;32m     99\u001b[0m \u001b[38;5;66;03m# as the number of inputs the function\u001b[39;00m\n\u001b[1;32m    100\u001b[0m \u001b[38;5;66;03m# and the constraints take\u001b[39;00m\n\u001b[1;32m    101\u001b[0m n \u001b[38;5;241m=\u001b[39m x\u001b[38;5;241m.\u001b[39mshape[\u001b[38;5;241m0\u001b[39m]\n",
      "\u001b[0;31mValueError\u001b[0m: x is initially in an infeasible region because at least one x is greater than an upper bound"
     ]
    }
   ],
   "source": [
    "from process.main import SingleRun\n",
    "from pathlib import Path\n",
    "\n",
    "prefix = \"a_scan_input_file_\"\n",
    "input_name = Path(prefix + \"IN.DAT\")\n",
    "\n",
    "# Perform a SingleRun on a scan-enabled input file\n",
    "single_run = SingleRun(str(input_name), solver=\"vmcon_bounded\")\n",
    "single_run.run()"
   ]
  },
  {
   "attachments": {},
   "cell_type": "markdown",
   "metadata": {
    "slideshow": {
     "slide_type": "slide"
    }
   },
   "source": [
    "## Plot scan results\n",
    "Use `plot_scans.py` to plot the resulting `MFILE.DAT`."
   ]
  },
  {
   "cell_type": "code",
   "execution_count": null,
   "metadata": {
    "slideshow": {
     "slide_type": "subslide"
    }
   },
   "outputs": [],
   "source": [
    "from process.io import plot_scans\n",
    "\n",
    "# Define working directory relative to project dir and input file name\n",
    "mfile_name = Path(prefix + \"MFILE.DAT\")\n",
    "output_dir = Path.cwd()\n",
    "\n",
    "plot_scans.main(\n",
    "    args=[\n",
    "        \"-f\",\n",
    "        str(mfile_name),\n",
    "        \"-yv\",\n",
    "        \"bt rmajor pnetelmw powfmw capcost\",\n",
    "        \"--outputdir\",\n",
    "        str(output_dir),\n",
    "    ]\n",
    ")\n"
   ]
  }
 ],
 "metadata": {
  "celltoolbar": "Slideshow",
  "interpreter": {
   "hash": "95e8614a6e18ad6e528160ac32f08bcfa19db99daf3816cbd89c3976c3924301"
  },
  "kernelspec": {
   "display_name": "Python 3 (ipykernel)",
   "language": "python",
   "name": "python3"
  },
  "language_info": {
   "codemirror_mode": {
    "name": "ipython",
    "version": 3
   },
   "file_extension": ".py",
   "mimetype": "text/x-python",
   "name": "python",
   "nbconvert_exporter": "python",
   "pygments_lexer": "ipython3",
   "version": "3.10.12"
  }
 },
 "nbformat": 4,
 "nbformat_minor": 2
}
