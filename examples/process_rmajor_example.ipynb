{
 "cells": [
  {
   "cell_type": "markdown",
   "metadata": {},
   "source": [
    "## Set up\n",
    "\n",
    "First, we import PROCESS and this allows us to run it in the notebook."
   ]
  },
  {
   "cell_type": "code",
   "execution_count": 1,
   "metadata": {},
   "outputs": [],
   "source": [
    "import matplotlib.pyplot as plt\n",
    "import numpy as np\n",
    "\n",
    "import process\n",
    "from process.main import SingleRun\n"
   ]
  },
  {
   "cell_type": "markdown",
   "metadata": {},
   "source": [
    "We can now inspect any variable to check its uninitialised value:"
   ]
  },
  {
   "cell_type": "code",
   "execution_count": 2,
   "metadata": {},
   "outputs": [
    {
     "name": "stdout",
     "output_type": "stream",
     "text": [
      "Power diverted to the separartrix (p_plasma_separatrix_mw) = None\n"
     ]
    }
   ],
   "source": [
    "print(\n",
    "    f\"Power diverted to the separartrix (p_plasma_separatrix_mw) = {process.data_structure.physics_variables.p_plasma_separatrix_mw}\"\n",
    ")"
   ]
  },
  {
   "cell_type": "markdown",
   "metadata": {},
   "source": [
    "Now, we need to initialise all the variables in PROCESS with their values at a given design point to establish a baseline.\n",
    "- We run an PROCESS in _evaluation_ mode to evaluate an input file, and output the values from all models.\n",
    "- A generic tokamak input, called \"large tomamak\", is used here."
   ]
  },
  {
   "cell_type": "code",
   "execution_count": 3,
   "metadata": {},
   "outputs": [
    {
     "name": "stdout",
     "output_type": "stream",
     "text": [
      "The IN.DAT file does not contain any obsolete variables.\n",
      " \n",
      " **************************************************************************************************************\n",
      " ************************************************** PROCESS ***************************************************\n",
      " ************************************** Power Reactor Optimisation Code ***************************************\n",
      " **************************************************************************************************************\n",
      " \n",
      " Version : 3.1.0\n",
      " Git Tag : v3.1.0-563-g02370a41\n",
      " Git Branch : 3818-develop-a-notebook-for-demonstrating-process-for-a-live-audience\n",
      " Date : 04/09/2025 UTC\n",
      " Time : 14:07\n",
      " User : graeme\n",
      " Computer : oldstar\n",
      " Directory : /home/graeme/Projects/PROCESS/examples\n",
      " Input : /home/graeme/Projects/PROCESS/examples/data/large_tokamak_eval_IN.DAT\n",
      " Run title : generic large tokamak\n",
      " Run type : Reactor concept design: Pulsed tokamak model model, (c) UK Atomic Energy Authority\n",
      " \n",
      " **************************************************************************************************************\n",
      " \n",
      " Equality constraints : 2\n",
      " Inequality constraints : 23\n",
      " Total constraints : 25\n",
      " Iteration variables : 2\n",
      " \n",
      " **************************************************************************************************************\n",
      "Solving equality constraints using fsolve\n"
     ]
    },
    {
     "name": "stderr",
     "output_type": "stream",
     "text": [
      "/home/graeme/Projects/PROCESS/process/init.py:95: UserWarning: tmargmin_cs and tmargmin should not both be specified in IN.DAT tmargmin_cs has been ignored\n",
      "  check_process(inputs)\n",
      "/home/graeme/Projects/PROCESS/process/physics.py:7294: RuntimeWarning: divide by zero encountered in scalar divide\n",
      "  * (neped / n_greenwald) ** -0.174\n",
      "dr_tf_plasma_case to small to accommodate the WP, forced to minimum value\n",
      "Ratio of central solenoid overall current density at beginning of flat-top / end of flat-top > 1 (|f_j_cs_start_end_flat_top| > 1)\n",
      "/home/graeme/Projects/PROCESS/process/costs.py:3030: RuntimeWarning: invalid value encountered in sqrt\n",
      "  annoam = cost_variables.ucoam[cost_variables.lsa - 1] * np.sqrt(\n",
      "/home/graeme/Projects/PROCESS/process/costs.py:3101: RuntimeWarning: invalid value encountered in sqrt\n",
      "  annwst = cost_variables.ucwst[cost_variables.lsa - 1] * np.sqrt(\n",
      "dr_tf_plasma_case to small to accommodate the WP, forced to minimum value\n",
      "dr_tf_plasma_case to small to accommodate the WP, forced to minimum value\n",
      "dr_tf_plasma_case to small to accommodate the WP, forced to minimum value\n",
      "dr_tf_plasma_case to small to accommodate the WP, forced to minimum value\n",
      "dr_tf_plasma_case to small to accommodate the WP, forced to minimum value\n",
      "dr_tf_plasma_case to small to accommodate the WP, forced to minimum value\n",
      "dr_tf_plasma_case to small to accommodate the WP, forced to minimum value\n",
      "dr_tf_plasma_case to small to accommodate the WP, forced to minimum value\n",
      "dr_tf_plasma_case to small to accommodate the WP, forced to minimum value\n",
      "dr_tf_plasma_case to small to accommodate the WP, forced to minimum value\n",
      "dr_tf_plasma_case to small to accommodate the WP, forced to minimum value\n",
      "dr_tf_plasma_case to small to accommodate the WP, forced to minimum value\n",
      "dr_tf_plasma_case to small to accommodate the WP, forced to minimum value\n",
      "dr_tf_plasma_case to small to accommodate the WP, forced to minimum value\n",
      "dr_tf_plasma_case to small to accommodate the WP, forced to minimum value\n",
      "dr_tf_plasma_case to small to accommodate the WP, forced to minimum value\n",
      "dr_tf_plasma_case to small to accommodate the WP, forced to minimum value\n",
      "dr_tf_plasma_case to small to accommodate the WP, forced to minimum value\n",
      "dr_tf_plasma_case to small to accommodate the WP, forced to minimum value\n",
      "dr_tf_plasma_case to small to accommodate the WP, forced to minimum value\n",
      "dr_tf_plasma_case to small to accommodate the WP, forced to minimum value\n",
      "dr_tf_plasma_case to small to accommodate the WP, forced to minimum value\n",
      "dr_tf_plasma_case to small to accommodate the WP, forced to minimum value\n",
      "Diamagnetic fraction is more than 1%, but not calculated. Consider using i_diamagnetic_current=2 and i_pfirsch_schluter_current=1\n",
      "dr_tf_plasma_case to small to accommodate the WP, forced to minimum value\n",
      "CS not using max current density: further optimisation may be possible\n",
      "dr_tf_plasma_case to small to accommodate the WP, forced to minimum value\n",
      "Diamagnetic fraction is more than 1%, but not calculated. Consider using i_diamagnetic_current=2 and i_pfirsch_schluter_current=1\n",
      "dr_tf_plasma_case to small to accommodate the WP, forced to minimum value\n",
      "CS not using max current density: further optimisation may be possible\n",
      "Diamagnetic fraction is more than 1%, but not calculated. Consider using i_diamagnetic_current=2 and i_pfirsch_schluter_current=1\n",
      "dr_tf_plasma_case to small to accommodate the WP, forced to minimum value\n",
      "CS not using max current density: further optimisation may be possible\n"
     ]
    },
    {
     "name": "stdout",
     "output_type": "stream",
     "text": [
      " \n",
      " ************************************ PROCESS found a consistent solution *************************************\n",
      " \n",
      " Warning in routine OCMMNT :\n",
      "\n",
      "*Cryostat roof allowance includes uppermost PF coil and outer thermal shield.\n",
      "*Cryostat floor allowance includes lowermost PF coil, outer thermal shield and gravity support.\n",
      "This is longer than 110 columns.\n",
      " Warning in routine OCMMNT :\n",
      "\n",
      "*Cryostat roof allowance includes uppermost PF coil and outer thermal shield.\n",
      "*Cryostat floor allowance includes lowermost PF coil, outer thermal shield and gravity support.\n",
      "This is longer than 110 columns.\n",
      " Warning in routine OCMMNT :\n",
      "\n",
      "*Cryostat roof allowance includes uppermost PF coil and outer thermal shield.\n",
      "*Cryostat floor allowance includes lowermost PF coil, outer thermal shield and gravity support.\n",
      "This is longer than 110 columns.\n",
      "******************************************** Errors and Warnings *********************************************\n",
      "\n",
      " \n",
      " ******************************************* End of PROCESS Output ********************************************\n",
      " \n"
     ]
    }
   ],
   "source": [
    "single_run = SingleRun(\"data/large_tokamak_eval_IN.DAT\")\n",
    "single_run.run()"
   ]
  },
  {
   "cell_type": "code",
   "execution_count": 4,
   "metadata": {},
   "outputs": [
    {
     "name": "stdout",
     "output_type": "stream",
     "text": [
      "\n",
      "=== Baseline ===\n",
      "Rmajor = 8.000 m\n",
      "n = 7.747e+19 m^-3\n",
      "T = 1.230e+01 keV\n",
      "τ_α = 1.535e+01 s\n",
      "nTτ_α = 1.463e+22 keV·s·m^-3 (×4.88 Lawson target)\n",
      "\n",
      "Constraints (negative = violated):\n",
      "  #  5 Density (Greenwald) ≤: ❌ (score -0.011)\n",
      "  # 24 Beta ≤      : ✅ (score +0.183)\n",
      "  # 68 P_sep ≤     : ✅ (score +0.013)\n",
      "  # 25 Peak TF field ≤: ❌ (score -0.201)\n",
      "  # 36 TF coil temp margin ≥: ✅ (score +1.990)\n",
      "  # 30 Injection power ≤: ❌ (score -0.619)\n",
      "  # 16 Net electric power ≥: ✅ (score +0.004)\n"
     ]
    }
   ],
   "source": [
    "phys = process.data_structure.physics_variables\n",
    "geom = process.data_structure.build_variables\n",
    "curr = process.data_structure.current_drive_variables\n",
    "\n",
    "IGNITION_TARGET_TP = 3.0e21  # keV·s·m^-3 (for context)\n",
    "\n",
    "def triple_product_alpha():\n",
    "    n   = phys.dene\n",
    "    T   = getattr(phys, \"ti\", None) or phys.te  # keV\n",
    "    tau = getattr(phys, \"t_alpha_confinement\", None)\n",
    "    return n*T*tau, n, T, tau\n",
    "\n",
    "# Define operators for the constraints we care about\n",
    "# Core\n",
    "WATCH = {\n",
    "    5:  \"Density (Greenwald) ≤\",\n",
    "    24: \"Beta ≤\",\n",
    "    68: \"P_sep ≤\",\n",
    "    # Lever-specific adds:\n",
    "    25: \"Peak TF field ≤\",           # add when turning Bt\n",
    "    36: \"TF coil temp margin ≥\",     # add when turning Bt\n",
    "    30: \"Injection power ≤\",         # add when turning Pinj\n",
    "    16: \"Net electric power ≥\",      # optional plant metric\n",
    "}\n",
    "OPS = {\n",
    "    5:\"<=\", 24:\"<=\", 68:\"<=\",\n",
    "    25:\"<=\", 36:\">=\",\n",
    "    30:\"<=\", 16:\">=\",\n",
    "}\n",
    "\n",
    "from process.constraints import ConstraintManager\n",
    "\n",
    "def signed_residual(cid):\n",
    "    \"\"\"Return a unified residual: >=0 = satisfied, <0 = violated.\"\"\"\n",
    "    res = ConstraintManager.evaluate_constraint(cid)\n",
    "    if res is None:\n",
    "        return None\n",
    "    r = res.normalised_residual\n",
    "    op = OPS.get(cid, None)\n",
    "    if op == \">=\":\n",
    "        return -r         # flip so negative means violated\n",
    "    elif op == \"<=\":\n",
    "        return r          # already negative when violated for '≤' in PROCESS\n",
    "    elif op == \"=\":\n",
    "        return -abs(r)    # distance from zero treated as violation\n",
    "    else:\n",
    "        # Fallback if op unknown: return raw and annotate later\n",
    "        return r\n",
    "\n",
    "def report(tag=\"Baseline\"):\n",
    "    TP, n, T, tau = triple_product_alpha()\n",
    "    print(f\"\\n=== {tag} ===\")\n",
    "    print(f\"Rmajor = {phys.rmajor:.3f} m\")\n",
    "    print(f\"n = {n:.3e} m^-3\")\n",
    "    print(f\"T = {T:.3e} keV\")\n",
    "    print(f\"τ_α = {tau:.3e} s\")\n",
    "    print(f\"nTτ_α = {TP:.3e} keV·s·m^-3 (×{TP/IGNITION_TARGET_TP:.2f} Lawson target)\")\n",
    "    print(\"\\nConstraints (negative = violated):\")\n",
    "    for cid, label in WATCH.items():\n",
    "        s = signed_residual(cid)\n",
    "        if s is None:\n",
    "            print(f\"  #{cid:>3} {label:<12}: n/a\")\n",
    "        else:\n",
    "            mark = \"✅\" if s >= 0 else \"❌\"\n",
    "            print(f\"  #{cid:>3} {label:<12}: {mark} (score {s:+.3f})\")\n",
    "\n",
    "# Show baseline status\n",
    "report(\"Baseline\")\n"
   ]
  },
  {
   "cell_type": "code",
   "execution_count": 5,
   "metadata": {},
   "outputs": [
    {
     "name": "stderr",
     "output_type": "stream",
     "text": [
      "dr_tf_plasma_case to small to accommodate the WP, forced to minimum value\n",
      "dr_tf_plasma_case to small to accommodate the WP, forced to minimum value\n",
      "dr_tf_plasma_case to small to accommodate the WP, forced to minimum value\n",
      "dr_tf_plasma_case to small to accommodate the WP, forced to minimum value\n"
     ]
    },
    {
     "name": "stdout",
     "output_type": "stream",
     "text": [
      "Solving equality constraints using fsolve\n"
     ]
    },
    {
     "name": "stderr",
     "output_type": "stream",
     "text": [
      "dr_tf_plasma_case to small to accommodate the WP, forced to minimum value\n",
      "dr_tf_plasma_case to small to accommodate the WP, forced to minimum value\n",
      "dr_tf_plasma_case to small to accommodate the WP, forced to minimum value\n",
      "dr_tf_plasma_case to small to accommodate the WP, forced to minimum value\n",
      "dr_tf_plasma_case to small to accommodate the WP, forced to minimum value\n",
      "dr_tf_plasma_case to small to accommodate the WP, forced to minimum value\n",
      "dr_tf_plasma_case to small to accommodate the WP, forced to minimum value\n",
      "dr_tf_plasma_case to small to accommodate the WP, forced to minimum value\n",
      "dr_tf_plasma_case to small to accommodate the WP, forced to minimum value\n",
      "dr_tf_plasma_case to small to accommodate the WP, forced to minimum value\n",
      "dr_tf_plasma_case to small to accommodate the WP, forced to minimum value\n",
      "dr_tf_plasma_case to small to accommodate the WP, forced to minimum value\n",
      "dr_tf_plasma_case to small to accommodate the WP, forced to minimum value\n",
      "dr_tf_plasma_case to small to accommodate the WP, forced to minimum value\n",
      "dr_tf_plasma_case to small to accommodate the WP, forced to minimum value\n",
      "dr_tf_plasma_case to small to accommodate the WP, forced to minimum value\n",
      "dr_tf_plasma_case to small to accommodate the WP, forced to minimum value\n",
      "dr_tf_plasma_case to small to accommodate the WP, forced to minimum value\n",
      "dr_tf_plasma_case to small to accommodate the WP, forced to minimum value\n",
      "dr_tf_plasma_case to small to accommodate the WP, forced to minimum value\n",
      "dr_tf_plasma_case to small to accommodate the WP, forced to minimum value\n",
      "dr_tf_plasma_case to small to accommodate the WP, forced to minimum value\n",
      "dr_tf_plasma_case to small to accommodate the WP, forced to minimum value\n",
      "dr_tf_plasma_case to small to accommodate the WP, forced to minimum value\n",
      "dr_tf_plasma_case to small to accommodate the WP, forced to minimum value\n",
      "Diamagnetic fraction is more than 1%, but not calculated. Consider using i_diamagnetic_current=2 and i_pfirsch_schluter_current=1\n",
      "dr_tf_plasma_case to small to accommodate the WP, forced to minimum value\n",
      "CS not using max current density: further optimisation may be possible\n",
      "dr_tf_plasma_case to small to accommodate the WP, forced to minimum value\n",
      "Diamagnetic fraction is more than 1%, but not calculated. Consider using i_diamagnetic_current=2 and i_pfirsch_schluter_current=1\n",
      "dr_tf_plasma_case to small to accommodate the WP, forced to minimum value\n",
      "CS not using max current density: further optimisation may be possible\n",
      "Diamagnetic fraction is more than 1%, but not calculated. Consider using i_diamagnetic_current=2 and i_pfirsch_schluter_current=1\n",
      "dr_tf_plasma_case to small to accommodate the WP, forced to minimum value\n",
      "CS not using max current density: further optimisation may be possible\n"
     ]
    },
    {
     "name": "stdout",
     "output_type": "stream",
     "text": [
      " \n",
      " ************************************ PROCESS found a consistent solution *************************************\n",
      " \n",
      " Warning in routine OCMMNT :\n",
      "\n",
      "*Cryostat roof allowance includes uppermost PF coil and outer thermal shield.\n",
      "*Cryostat floor allowance includes lowermost PF coil, outer thermal shield and gravity support.\n",
      "This is longer than 110 columns.\n",
      " Warning in routine OCMMNT :\n",
      "\n",
      "*Cryostat roof allowance includes uppermost PF coil and outer thermal shield.\n",
      "*Cryostat floor allowance includes lowermost PF coil, outer thermal shield and gravity support.\n",
      "This is longer than 110 columns.\n",
      " Warning in routine OCMMNT :\n",
      "\n",
      "*Cryostat roof allowance includes uppermost PF coil and outer thermal shield.\n",
      "*Cryostat floor allowance includes lowermost PF coil, outer thermal shield and gravity support.\n",
      "This is longer than 110 columns.\n",
      "******************************************** Errors and Warnings *********************************************\n",
      "\n",
      " \n",
      " ******************************************* End of PROCESS Output ********************************************\n",
      " \n"
     ]
    }
   ],
   "source": [
    "process.data_structure.physics_variables.rmajor = 7.9\n",
    "single_run.run()"
   ]
  },
  {
   "cell_type": "code",
   "execution_count": 6,
   "metadata": {},
   "outputs": [
    {
     "name": "stdout",
     "output_type": "stream",
     "text": [
      "\n",
      "=== After Rmajor=7.9m ===\n",
      "Rmajor = 7.900 m\n",
      "n = 7.901e+19 m^-3\n",
      "T = 1.208e+01 keV\n",
      "τ_α = 1.544e+01 s\n",
      "nTτ_α = 1.473e+22 keV·s·m^-3 (×4.91 Lawson target)\n",
      "\n",
      "Constraints (negative = violated):\n",
      "  #  5 Density (Greenwald) ≤: ❌ (score -0.000)\n",
      "  # 24 Beta ≤      : ✅ (score +0.185)\n",
      "  # 68 P_sep ≤     : ❌ (score -0.020)\n",
      "  # 25 Peak TF field ≤: ❌ (score -0.211)\n",
      "  # 36 TF coil temp margin ≥: ✅ (score +2.071)\n",
      "  # 30 Injection power ≤: ❌ (score -0.622)\n",
      "  # 16 Net electric power ≥: ❌ (score -0.030)\n"
     ]
    }
   ],
   "source": [
    "report(\"After Rmajor=7.9m\")"
   ]
  },
  {
   "cell_type": "code",
   "execution_count": 7,
   "metadata": {},
   "outputs": [],
   "source": [
    "process.data_structure.current_drive_variables.p_hcd_primary_extra_heat_mw = 50.0\n",
    "single_run.models.current_drive.cudriv()\n",
    "single_run.models.physics.physics()\n",
    "single_run.models.power.plant_electric_production()\n"
   ]
  },
  {
   "cell_type": "code",
   "execution_count": 8,
   "metadata": {},
   "outputs": [
    {
     "name": "stdout",
     "output_type": "stream",
     "text": [
      "\n",
      "=== hcd_primary_extra_heat_mw = 10 MW ===\n",
      "Rmajor = 7.900 m\n",
      "n = 7.901e+19 m^-3\n",
      "T = 1.208e+01 keV\n",
      "τ_α = 1.544e+01 s\n",
      "nTτ_α = 1.473e+22 keV·s·m^-3 (×4.91 Lawson target)\n",
      "\n",
      "Constraints (negative = violated):\n",
      "  #  5 Density (Greenwald) ≤: ❌ (score -0.000)\n",
      "  # 24 Beta ≤      : ✅ (score +0.185)\n",
      "  # 68 P_sep ≤     : ❌ (score -0.170)\n",
      "  # 25 Peak TF field ≤: ❌ (score -0.211)\n",
      "  # 36 TF coil temp margin ≥: ✅ (score +2.071)\n",
      "  # 30 Injection power ≤: ❌ (score -0.747)\n",
      "  # 16 Net electric power ≥: ✅ (score +0.095)\n"
     ]
    }
   ],
   "source": [
    "report(\"hcd_primary_extra_heat_mw = 10 MW\")"
   ]
  },
  {
   "cell_type": "code",
   "execution_count": 9,
   "metadata": {},
   "outputs": [
    {
     "name": "stdout",
     "output_type": "stream",
     "text": [
      "\n",
      "=== After adding W impurity 5e-5 ===\n",
      "Rmajor = 7.900 m\n",
      "n = 7.901e+19 m^-3\n",
      "T = 1.208e+01 keV\n",
      "τ_α = 3.320e+01 s\n",
      "nTτ_α = 3.169e+22 keV·s·m^-3 (×10.56 Lawson target)\n",
      "\n",
      "Constraints (negative = violated):\n",
      "  #  5 Density (Greenwald) ≤: ❌ (score -0.720)\n",
      "  # 24 Beta ≤      : ✅ (score +0.273)\n",
      "  # 68 P_sep ≤     : ✅ (score +0.208)\n",
      "  # 25 Peak TF field ≤: ❌ (score -0.211)\n",
      "  # 36 TF coil temp margin ≥: ✅ (score +2.071)\n",
      "  # 30 Injection power ≤: ✅ (score +0.391)\n",
      "  # 16 Net electric power ≥: ❌ (score -1.043)\n"
     ]
    }
   ],
   "source": [
    "process.data_structure.physics_variables.bt = 10.0\n",
    "single_run.models.physics.physics()\n",
    "single_run.models.current_drive.cudriv()\n",
    "single_run.models.physics.physics()\n",
    "single_run.models.power.plant_electric_production()\n",
    "report(\"After adding W impurity 5e-5\")"
   ]
  }
 ],
 "metadata": {
  "kernelspec": {
   "display_name": "env (3.11.13)",
   "language": "python",
   "name": "python3"
  },
  "language_info": {
   "codemirror_mode": {
    "name": "ipython",
    "version": 3
   },
   "file_extension": ".py",
   "mimetype": "text/x-python",
   "name": "python",
   "nbconvert_exporter": "python",
   "pygments_lexer": "ipython3",
   "version": "3.11.13"
  }
 },
 "nbformat": 4,
 "nbformat_minor": 2
}
