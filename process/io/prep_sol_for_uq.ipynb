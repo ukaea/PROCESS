{
 "cells": [
  {
   "cell_type": "markdown",
   "metadata": {},
   "source": [
    "# Prepare Process Solution for UQ\n",
    "\n",
    "Convert IN.DAT to inequality problem then run it. Take the solution vector from the MFILE.DAT and copy it back into the original inequality IN.DAT, but make it a \"once-through\" (non-optimising) input. This input file is then prepared for UQ at the solution vector."
   ]
  },
  {
   "cell_type": "code",
   "execution_count": 1,
   "metadata": {},
   "outputs": [],
   "source": [
    "from mfile_to_in import convert\n",
    "import subprocess"
   ]
  },
  {
   "cell_type": "markdown",
   "metadata": {},
   "source": [
    "## Convert original input file to inequalities\n",
    "\n",
    "Take original large tokamak IN.DAT (`lt_orig_IN.DAT`). Convert it to an inequalities input file (`lt_IN.DAT`), maintaining any f-value initialisations.\n",
    "\n",
    "This isn't required if input file is already an inequalities file."
   ]
  },
  {
   "cell_type": "code",
   "execution_count": 19,
   "metadata": {},
   "outputs": [],
   "source": [
    "original_in_name = \"/home/graeme/easyVVUQ-process/all_demo_analysis/demo_analysis/new_baseline_sol_IN.DAT\"\n",
    "ineqs_in_name = \"/home/graeme/easyVVUQ-process/all_demo_analysis/demo_analysis/new_baseline_sol_ineqs_IN.DAT\""
   ]
  },
  {
   "cell_type": "code",
   "execution_count": 15,
   "metadata": {},
   "outputs": [
    {
     "name": "stdout",
     "output_type": "stream",
     "text": [
      "Keeping f-value initialisation for fracture_toughness = 150.0\n",
      "Removing f-value initialisation for fbeta_max = 0.36088646577061995\n",
      "Keeping f-value initialisation for fdene = 1.2\n",
      "Removing f-value initialisation for ffuspow = 1\n",
      "Removing f-value initialisation for fiooic = 0.7834033289516845\n",
      "Removing f-value initialisation for fjohc = 0.6072455954501234\n",
      "Removing f-value initialisation for fjohc0 = 0.2814227529833384\n",
      "Removing f-value initialisation for fjprot = 1.0\n",
      "Keeping f-value initialisation for flhthresh = 1.2\n",
      "Removing f-value initialisation for fncycle = 1.0\n",
      "Removing f-value initialisation for foh_stress = 0.3837847690059154\n",
      "Removing f-value initialisation for fpeakb = 1.0\n",
      "Removing f-value initialisation for fpinj = 1.0\n",
      "Removing f-value initialisation for fpnetel = 1.0\n",
      "Removing f-value initialisation for fpsepbqar = 0.6842019755652593\n",
      "Removing f-value initialisation for fstrcase = 1.0\n",
      "Removing f-value initialisation for fstrcond = 0.666544764702799\n",
      "Removing f-value initialisation for fmaxvvstress = 0.44897788854846377\n",
      "Removing f-value initialisation for ft_burn = 0.33672375012337685\n",
      "Removing f-value initialisation for ftmargoh = 1.0\n",
      "Removing f-value initialisation for ftmargtf = 1.0\n",
      "Removing f-value initialisation for fvdump = 1.0\n",
      "Removing f-value initialisation for fwalld = 0.04309332035008139\n",
      "Removing f-value initialisation for ftaulimit = 0.7277032301678127\n",
      "Keeping f-value initialisation for fcap0 = 1.15\n",
      "Keeping f-value initialisation for fcap0cp = 1.06\n",
      "Removing f-value initialisation for fcr0 = 0.065\n",
      "Removing f-value initialisation for fcuohsu = 0.70\n",
      "Keeping f-value initialisation for fkzohm = 1.0245\n",
      "Removing f-value initialisation for fne0 = 0.5963799216271694\n",
      "f-values removed as optimisation parameters = 20\n",
      "f-value initialisations removed = 24\n"
     ]
    },
    {
     "data": {
      "text/plain": [
       "'/home/graeme/easyVVUQ-process/all_demo_analysis/demo_analysis/new_baseline_sol_ineqs_IN.DAT'"
      ]
     },
     "execution_count": 15,
     "metadata": {},
     "output_type": "execute_result"
    }
   ],
   "source": [
    "convert(\n",
    "    original_in_name=original_in_name,\n",
    "    new_in_name=ineqs_in_name,\n",
    "    no_optimisation=False,\n",
    "    n_equalities=3,\n",
    "    remove_f_value_inits=True,  # this might want to be the default\n",
    ")"
   ]
  },
  {
   "cell_type": "markdown",
   "metadata": {},
   "source": [
    "Now run with VMCON. Result is inequality-solved solution."
   ]
  },
  {
   "cell_type": "code",
   "execution_count": 21,
   "metadata": {},
   "outputs": [
    {
     "name": "stdout",
     "output_type": "stream",
     "text": [
      "The IN.DAT file does not contain any obsolete variables.\n",
      " \n",
      " **************************************************************************************************************\n",
      " ************************************************** PROCESS ***************************************************\n",
      " ************************************** Power Reactor Optimisation Code ***************************************\n",
      " **************************************************************************************************************\n",
      " \n",
      "   Program :\n",
      "   Version : 3.1.0   Release Date :: 2024-03-21\n",
      "   Tag No. : v3.1.0-221-g8e38113a\n",
      "    Branch : main\n",
      "   Git log : Don|t use system Python for tracking jobs in CI ([hash]3466)\n",
      " Date/time : 21 Jan 2025 11:42:29 +00:00(hh:mm) UTC\n",
      "      User : graeme\n",
      "  Computer : graeme\n",
      " Directory : /home/graeme/dakota-process/design_points\n",
      "     Input : /home/graeme/easyVVUQ-process/all_demo_analysis/demo_analysis/new_baseline_sol_ineqs_IN.DAT\n",
      " Run title : eu-demo 2018 baseline\n",
      "  Run type : Reactor concept design: Pulsed tokamak model model, (c) CCFE\n",
      " \n",
      " **************************************************************************************************************\n",
      " \n",
      "   Equality constraints : 03\n",
      " Inequality constraints : 21\n",
      "      Total constraints : 24\n",
      "    Iteration variables : 20\n",
      "         Max iterations : ***\n",
      "       Figure of merit  : -14  -- maximise pulse length\n",
      "  Convergence parameter : 1.00E-08\n",
      " \n",
      " **************************************************************************************************************\n"
     ]
    },
    {
     "name": "stderr",
     "output_type": "stream",
     "text": [
      "/home/graeme/process-gh/process/process/costs.py:2755: RuntimeWarning: invalid value encountered in sqrt\n",
      "  annoam = cost_variables.ucoam[cost_variables.lsa - 1] * numpy.sqrt(\n",
      "/home/graeme/process-gh/process/process/costs.py:2824: RuntimeWarning: invalid value encountered in sqrt\n",
      "  annwst = cost_variables.ucwst[cost_variables.lsa - 1] * numpy.sqrt(\n"
     ]
    },
    {
     "name": "stdout",
     "output_type": "stream",
     "text": [
      " Warning in routine OCMMNT :\n",
      "\n",
      "*Cryostat roof allowance includes uppermost PF coil and outer thermal shield.\n",
      "*Cryostat floor allowance includes lowermost PF coil, outer thermal shield and gravity support.\n",
      "This is longer than 110 columns.\n",
      " Warning in routine OCMMNT :\n",
      "\n",
      "*Cryostat roof allowance includes uppermost PF coil and outer thermal shield.\n",
      "*Cryostat floor allowance includes lowermost PF coil, outer thermal shield and gravity support.\n",
      "This is longer than 110 columns.\n",
      " Warning in routine OCMMNT :\n",
      "\n",
      "*Cryostat roof allowance includes uppermost PF coil and outer thermal shield.\n",
      "*Cryostat floor allowance includes lowermost PF coil, outer thermal shield and gravity support.\n",
      "This is longer than 110 columns.\n",
      " Warning in routine OCMMNT :\n",
      "\n",
      "*Cryostat roof allowance includes uppermost PF coil and outer thermal shield.\n",
      "*Cryostat floor allowance includes lowermost PF coil, outer thermal shield and gravity support.\n",
      "This is longer than 110 columns.\n",
      " Warning in routine OCMMNT :\n",
      "\n",
      "*Cryostat roof allowance includes uppermost PF coil and outer thermal shield.\n",
      "*Cryostat floor allowance includes lowermost PF coil, outer thermal shield and gravity support.\n",
      "This is longer than 110 columns.\n",
      " Warning in routine OCMMNT :\n",
      "\n",
      "*Cryostat roof allowance includes uppermost PF coil and outer thermal shield.\n",
      "*Cryostat floor allowance includes lowermost PF coil, outer thermal shield and gravity support.\n",
      "This is longer than 110 columns.\n",
      " \n",
      " ******************************************** Errors and Warnings *********************************************\n",
      " \n",
      " PROCESS status flag:   Warning messages                                  \n",
      " \n",
      " ID  LEVEL  MESSAGE\n",
      "244     2   PHYSICS: Diamagnetic fraction is more than 1%, but not calculated. Consider usin\n",
      "  \n",
      " 93     2   BURN: Negative burn time available; reduce t_fusion_ramp or raise PF coil V-s ca\n",
      " Floating point diagnostic values for this error:\n",
      "   1)   -1.00000E+01\n",
      "   2)   -0.00000E+00\n",
      "   3)    2.17085E-02\n",
      "   4)    1.00000E+01\n",
      "  \n",
      "286     2   [pfcoil][cntrpost]: fjohc shouldn't be above 0.7 for engineering reliability.   \n",
      "  \n",
      "287     2   [pfcoil][cntrpost]: fjohc0 shouldn't be above 0.7 for engineering reliability.  \n",
      "  \n",
      "244     2   PHYSICS: Diamagnetic fraction is more than 1%, but not calculated. Consider usin\n",
      "  \n",
      "286     2   [pfcoil][cntrpost]: fjohc shouldn't be above 0.7 for engineering reliability.   \n",
      "  \n",
      "287     2   [pfcoil][cntrpost]: fjohc0 shouldn't be above 0.7 for engineering reliability.  \n",
      "  \n",
      "244     2   PHYSICS: Diamagnetic fraction is more than 1%, but not calculated. Consider usin\n",
      "  \n",
      "286     2   [pfcoil][cntrpost]: fjohc shouldn't be above 0.7 for engineering reliability.   \n",
      "  \n",
      "287     2   [pfcoil][cntrpost]: fjohc0 shouldn't be above 0.7 for engineering reliability.  \n",
      "  \n",
      "244     2   PHYSICS: Diamagnetic fraction is more than 1%, but not calculated. Consider usin\n",
      "  \n",
      "286     2   [pfcoil][cntrpost]: fjohc shouldn't be above 0.7 for engineering reliability.   \n",
      "  \n",
      "287     2   [pfcoil][cntrpost]: fjohc0 shouldn't be above 0.7 for engineering reliability.  \n",
      "  \n",
      "244     2   PHYSICS: Diamagnetic fraction is more than 1%, but not calculated. Consider usin\n",
      "  \n",
      "286     2   [pfcoil][cntrpost]: fjohc shouldn't be above 0.7 for engineering reliability.   \n",
      "  \n",
      "287     2   [pfcoil][cntrpost]: fjohc0 shouldn't be above 0.7 for engineering reliability.  \n",
      "  \n",
      "244     2   PHYSICS: Diamagnetic fraction is more than 1%, but not calculated. Consider usin\n",
      "  \n",
      "286     2   [pfcoil][cntrpost]: fjohc shouldn't be above 0.7 for engineering reliability.   \n",
      "  \n",
      "287     2   [pfcoil][cntrpost]: fjohc0 shouldn't be above 0.7 for engineering reliability.  \n",
      "  \n",
      " **************************************************************************************************************\n",
      " \n",
      " \n",
      " ******************************************* End of PROCESS Output ********************************************\n",
      " \n"
     ]
    },
    {
     "data": {
      "text/plain": [
       "CompletedProcess(args=['process', '-i', '/home/graeme/easyVVUQ-process/all_demo_analysis/demo_analysis/new_baseline_sol_ineqs_IN.DAT'], returncode=0)"
      ]
     },
     "execution_count": 21,
     "metadata": {},
     "output_type": "execute_result"
    }
   ],
   "source": [
    "subprocess.run([\"process\", \"-i\", ineqs_in_name])"
   ]
  },
  {
   "cell_type": "code",
   "execution_count": 17,
   "metadata": {},
   "outputs": [
    {
     "name": "stderr",
     "output_type": "stream",
     "text": [
      "rm: cannot remove '*SIG_TF.json': No such file or directory\n",
      "rm: cannot remove '*OUT.DAT': No such file or directory\n"
     ]
    },
    {
     "data": {
      "text/plain": [
       "CompletedProcess(args='rm *SIG_TF.json *OUT.DAT', returncode=1)"
      ]
     },
     "execution_count": 17,
     "metadata": {},
     "output_type": "execute_result"
    }
   ],
   "source": [
    "# Remove unwanted outputs\n",
    "subprocess.run(\"rm *SIG_TF.json *OUT.DAT\", shell=True)"
   ]
  },
  {
   "cell_type": "markdown",
   "metadata": {},
   "source": [
    "\n",
    "## Create once-through input file from solution point for UQ studies\n",
    "\n",
    "Use the solution vector to create a once-through (non-optimising) input file for UQ studies."
   ]
  },
  {
   "cell_type": "code",
   "execution_count": 14,
   "metadata": {},
   "outputs": [
    {
     "name": "stdout",
     "output_type": "stream",
     "text": [
      "Optimisation parameter f-values ignored = 0\n",
      "f-values removed as optimisation parameters = 0\n"
     ]
    },
    {
     "data": {
      "text/plain": [
       "PosixPath('/home/graeme/easyVVUQ-process/all_demo_analysis/demo_analysis/new_baseline_sol_ineqs_sol_IN.DAT')"
      ]
     },
     "execution_count": 14,
     "metadata": {},
     "output_type": "execute_result"
    }
   ],
   "source": [
    "input_name_stem = ineqs_in_name.split(\"_IN.DAT\")[0]\n",
    "mfile_name = input_name_stem + \"_MFILE.DAT\"\n",
    "sol_in_name = input_name_stem + \"_sol_IN.DAT\"\n",
    "\n",
    "convert(\n",
    "    original_in_name=ineqs_in_name,\n",
    "    mfile_name=mfile_name,\n",
    "    new_in_name=sol_in_name,\n",
    "    no_optimisation=False,\n",
    "    n_equalities=5,\n",
    "    remove_f_value_inits=False,\n",
    ")"
   ]
  },
  {
   "cell_type": "markdown",
   "metadata": {},
   "source": [
    "Optionally run the solution vector once-through IN.DAT."
   ]
  },
  {
   "cell_type": "code",
   "execution_count": 24,
   "metadata": {},
   "outputs": [
    {
     "name": "stdout",
     "output_type": "stream",
     "text": [
      "The IN.DAT file does not contain any obsolete variables.\n",
      " \n",
      " **************************************************************************************************************\n",
      " ************************************************** PROCESS ***************************************************\n",
      " ************************************** Power Reactor Optimisation Code ***************************************\n",
      " **************************************************************************************************************\n",
      " \n",
      "   Program :\n",
      "   Version : 3.1.0   Release Date :: 2024-03-21\n",
      "   Tag No. : v3.1.0-221-g8e38113a\n",
      "    Branch : main\n",
      "   Git log : Don|t use system Python for tracking jobs in CI ([hash]3466)\n",
      " Date/time : 21 Jan 2025 11:43:48 +00:00(hh:mm) UTC\n",
      "      User : graeme\n",
      "  Computer : graeme\n",
      " Directory : /home/graeme/dakota-process/design_points\n",
      "     Input : /home/graeme/easyVVUQ-process/all_demo_analysis/demo_analysis/new_baseline_sol_ineqs_sol_IN.DAT\n",
      " Run title : eu-demo 2018 baseline\n",
      "  Run type : Reactor concept design: Pulsed tokamak model model, (c) CCFE\n",
      " \n",
      " **************************************************************************************************************\n",
      " \n",
      "   Equality constraints : 05\n",
      " Inequality constraints : 19\n",
      "      Total constraints : 24\n",
      "    Iteration variables : 20\n",
      "         Max iterations : ***\n",
      "       Figure of merit  : -14  -- maximise pulse length\n",
      "  Convergence parameter : 1.00E-08\n",
      " \n",
      " **************************************************************************************************************\n",
      "Starting scan point  1 of  1: Net_electric_power_(MW), pnetelin =  3.500E+02\n"
     ]
    },
    {
     "name": "stderr",
     "output_type": "stream",
     "text": [
      "/home/graeme/process-gh/process/process/init.py:390: UserWarning: Lower limit of volume averaged electron temperature (te) has been raised to ensure te > teped\n",
      "  warn(\n",
      "x is initially in an infeasible region because at least one x is lower than a lower bound. The out of bounds variables are at indices 7 (0-based indexing)\n",
      "process.solver - WARNING - Active iteration variables are : \n",
      "0: bt \n",
      "1: rmajor \n",
      "2: te \n",
      "3: beta \n",
      "4: dene \n",
      "5: tfcth \n",
      "6: ohcth \n",
      "7: q \n",
      "8: bore \n",
      "9: coheof \n",
      "10: fcohbop \n",
      "11: fvsbrnni \n",
      "12: tdmptf \n",
      "13: thkcas \n",
      "14: thwcndut \n",
      "15: fcutfsu \n",
      "16: cpttf \n",
      "17: ralpne \n",
      "18: oh_steel_frac \n",
      "19: fimp(13) \n",
      "\n",
      "Traceback (most recent call last):\n",
      "  File \"/home/graeme/anaconda3/envs/process/bin/process\", line 33, in <module>\n",
      "    sys.exit(load_entry_point('process', 'console_scripts', 'process')())\n",
      "  File \"/home/graeme/process-gh/process/process/main.py\", line 737, in main\n",
      "    Process(args)\n",
      "  File \"/home/graeme/process-gh/process/process/main.py\", line 126, in __init__\n",
      "    self.run_mode()\n",
      "  File \"/home/graeme/process-gh/process/process/main.py\", line 226, in run_mode\n",
      "    self.run.run()\n",
      "  File \"/home/graeme/process-gh/process/process/main.py\", line 390, in run\n",
      "    self.run_scan(self.solver)\n",
      "  File \"/home/graeme/process-gh/process/process/main.py\", line 493, in run_scan\n",
      "    self.scan = Scan(self.models, solver)\n",
      "  File \"/home/graeme/process-gh/process/process/scan.py\", line 21, in __init__\n",
      "    self.run_scan()\n",
      "  File \"/home/graeme/process-gh/process/process/scan.py\", line 48, in run_scan\n",
      "    self.scan_1d()\n",
      "  File \"/home/graeme/process-gh/process/process/scan.py\", line 76, in scan_1d\n",
      "    ifail = self.doopt()\n",
      "  File \"/home/graeme/process-gh/process/process/scan.py\", line 56, in doopt\n",
      "    ifail = self.optimiser.run()\n",
      "  File \"/home/graeme/process-gh/process/process/optimiser.py\", line 53, in run\n",
      "    ifail = self.solver.solve()\n",
      "  File \"/home/graeme/process-gh/process/process/solver.py\", line 247, in solve\n",
      "    raise e\n",
      "  File \"/home/graeme/process-gh/process/process/solver.py\", line 215, in solve\n",
      "    x, _, _, res = solve(\n",
      "  File \"/home/graeme/anaconda3/envs/process/lib/python3.10/site-packages/pyvmcon/vmcon.py\", line 107, in solve\n",
      "    raise ValueError(msg)\n",
      "ValueError: x is initially in an infeasible region because at least one x is lower than a lower bound\n",
      "rm: cannot remove '*SIG_TF.json': No such file or directory\n",
      "rm: cannot remove '*OUT.DAT': No such file or directory\n"
     ]
    },
    {
     "data": {
      "text/plain": [
       "CompletedProcess(args='rm *SIG_TF.json *OUT.DAT', returncode=1)"
      ]
     },
     "execution_count": 24,
     "metadata": {},
     "output_type": "execute_result"
    }
   ],
   "source": [
    "subprocess.run([\"process\", \"-i\", sol_in_name])\n",
    "# Remove unwanted outputs\n",
    "subprocess.run(\"rm *SIG_TF.json *OUT.DAT\", shell=True)"
   ]
  },
  {
   "cell_type": "markdown",
   "metadata": {},
   "source": [
    "Could extend to convert solution IN.DAT to template for UQ."
   ]
  }
 ],
 "metadata": {
  "kernelspec": {
   "display_name": "process",
   "language": "python",
   "name": "python3"
  },
  "language_info": {
   "codemirror_mode": {
    "name": "ipython",
    "version": 3
   },
   "file_extension": ".py",
   "mimetype": "text/x-python",
   "name": "python",
   "nbconvert_exporter": "python",
   "pygments_lexer": "ipython3",
   "version": "3.10.15"
  }
 },
 "nbformat": 4,
 "nbformat_minor": 2
}
