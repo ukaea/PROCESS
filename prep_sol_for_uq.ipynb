{
 "cells": [
  {
   "cell_type": "markdown",
   "metadata": {},
   "source": [
    "# Prepare Process Solution for UQ\n",
    "\n",
    "Convert IN.DAT to inequality problem then run it. Take the solution vector from the MFILE.DAT and copy it back into the original inequality IN.DAT, but make it a \"once-through\" (non-optimising) input. This input file is then prepared for UQ at the solution vector."
   ]
  },
  {
   "cell_type": "code",
   "execution_count": 8,
   "metadata": {},
   "outputs": [],
   "source": [
    "from mfile_to_in import convert\n",
    "import subprocess"
   ]
  },
  {
   "cell_type": "markdown",
   "metadata": {},
   "source": [
    "## Convert original input file to inequalities\n",
    "\n",
    "Take original large tokamak IN.DAT (`lt_orig_IN.DAT`). Convert it to an inequalities input file (`lt_IN.DAT`), maintaining any f-value initialisations.\n",
    "\n",
    "This isn't required if input file is already an inequalities file."
   ]
  },
  {
   "cell_type": "code",
   "execution_count": 9,
   "metadata": {},
   "outputs": [],
   "source": [
    "original_in_name = \"/home/graeme/easyVVUQ-process/all_demo_analysis/demo_analysis_5/clean_demo_2023_IN.DAT\"\n",
    "ineqs_in_name = \"/home/graeme/easyVVUQ-process/all_demo_analysis/demo_analysis_5/clean_demo_2023_iqns_IN.DAT\""
   ]
  },
  {
   "cell_type": "code",
   "execution_count": 10,
   "metadata": {},
   "outputs": [
    {
     "name": "stdout",
     "output_type": "stream",
     "text": [
      "Keeping f-value initialisation for fracture_toughness = 150.0\n",
      "Removing f-value initialisation for fbetatry = 0.45845305287829197\n",
      "Keeping f-value initialisation for fdene = 1.2\n",
      "Removing f-value initialisation for ffuspow = 1\n",
      "Removing f-value initialisation for fiooic = 0.733862251259087\n",
      "Removing f-value initialisation for fjohc = 0.6154408322072109\n",
      "Removing f-value initialisation for fjohc0 = 0.5681989768281468\n",
      "Removing f-value initialisation for fjprot = 1.0\n",
      "Keeping f-value initialisation for flhthresh = 1.4999999999999998\n",
      "Removing f-value initialisation for fncycle = 1.0\n",
      "Removing f-value initialisation for foh_stress = 0.5470684327421722\n",
      "Removing f-value initialisation for fpeakb = 1.0\n",
      "Removing f-value initialisation for fpinj = 1.0\n",
      "Removing f-value initialisation for fpnetel = 1.0\n",
      "Removing f-value initialisation for fpsepbqar = 0.8747519334818635\n",
      "Removing f-value initialisation for fstrcase = 1.0\n",
      "Removing f-value initialisation for fstrcond = 0.7987626453167929\n",
      "Removing f-value initialisation for fmaxvvstress = 0.31721023709510027\n",
      "Removing f-value initialisation for ftburn = 1.0\n",
      "Removing f-value initialisation for ftmargoh = 1.0\n",
      "Removing f-value initialisation for ftmargtf = 1.0\n",
      "Removing f-value initialisation for fvdump = 1.0\n",
      "Removing f-value initialisation for fwalld = 0.13500089604305868\n",
      "Removing f-value initialisation for ftaulimit = 0.8924182657580688\n",
      "Keeping f-value initialisation for fcap0 = 1.15\n",
      "Keeping f-value initialisation for fcap0cp = 1.06\n",
      "Removing f-value initialisation for fcr0 = 0.065\n",
      "Removing f-value initialisation for fcuohsu = 0.70\n",
      "Keeping f-value initialisation for fkzohm = 1.0245\n",
      "Removing f-value initialisation for fne0 = 0.5963799216271634\n",
      "f-values removed as optimisation parameters = 20\n",
      "f-value initialisations removed = 24\n"
     ]
    },
    {
     "data": {
      "text/plain": [
       "'/home/graeme/easyVVUQ-process/all_demo_analysis/demo_analysis_5/clean_demo_2023_iqns_IN.DAT'"
      ]
     },
     "execution_count": 10,
     "metadata": {},
     "output_type": "execute_result"
    }
   ],
   "source": [
    "convert(\n",
    "    original_in_name=original_in_name,\n",
    "    new_in_name=ineqs_in_name,\n",
    "    no_optimisation=False,\n",
    "    n_equalities=3,\n",
    "    remove_f_value_inits=True,  # this might want to be the default\n",
    ")"
   ]
  },
  {
   "cell_type": "markdown",
   "metadata": {},
   "source": [
    "Now run with VMCON. Result is inequality-solved solution."
   ]
  },
  {
   "cell_type": "code",
   "execution_count": 11,
   "metadata": {},
   "outputs": [
    {
     "name": "stdout",
     "output_type": "stream",
     "text": [
      "The IN.DAT file does not contain any obsolete variables.\n",
      " \n",
      " **************************************************************************************************************\n",
      " ************************************************** PROCESS ***************************************************\n",
      " ************************************** Power Reactor Optimisation Code ***************************************\n",
      " **************************************************************************************************************\n",
      " \n",
      "   Program :\n",
      "   Version : 3.1.0   Release Date :: 2024-03-21\n",
      "   Tag No. : v3.1.0-139-g627861e code contains untracked changes\n",
      " Warning in routine OCMMNT :\n",
      "   Branch : 1821-pythonise-bootstrap_fraction_sauter-function-in-physicsf90-and-integrate-refactored-plasmaprofiles-with-it\n",
      "This is longer than 110 columns.\n",
      "    Branch : 1821-pythonise-bootstrap_fraction_sauter-function-in-physicsf90-and-integrate-refactored-plasmaprofiles-with-it\n",
      "   Git log : Don|t allow MFile comparison with an error3 MFile ([hash]3179)\n",
      " Date/time :  9 Sep 2024 20:49:00 +01:00(hh:mm) UTC\n",
      "      User : graeme\n",
      "  Computer : graeme\n",
      " Directory : /home/graeme/process-gh/process\n",
      "     Input : /home/graeme/easyVVUQ-process/all_demo_analysis/demo_analysis_5/clean_demo_2023_iqns_IN.DAT\n",
      " Run title : eu-demo 2018 baseline\n",
      "  Run type : Reactor concept design: Pulsed tokamak model, (c) CCFE\n",
      " \n",
      " **************************************************************************************************************\n",
      " \n",
      "   Equality constraints : 03\n",
      " Inequality constraints : 22\n",
      "      Total constraints : 25\n",
      "    Iteration variables : 19\n",
      "         Max iterations : ***\n",
      "       Figure of merit  : +01  -- minimise major radius\n",
      "  Convergence parameter : 1.00E-08\n",
      " \n",
      " **************************************************************************************************************\n",
      " Warning in routine OCMMNT :\n",
      "   Branch : 1821-pythonise-bootstrap_fraction_sauter-function-in-physicsf90-and-integrate-refactored-plasmaprofiles-with-it\n",
      "This is longer than 110 columns.\n",
      "78 | Convergence Parameter: 1.022E+00\r"
     ]
    },
    {
     "name": "stderr",
     "output_type": "stream",
     "text": [
      "/home/graeme/process-gh/process/process/sctfcoil.py:3471: RuntimeWarning: invalid value encountered in sqrt\n",
      "  sctfcoil_module.t_cable = numpy.sqrt(\n",
      "process.sctfcoil - WARNING - Negative Iop/Icrit for TF coil\n",
      "            jsc: -625108623.6248327\n",
      "            iooic: -0.24467635364401158\n",
      "            j_crit_sc: 2554838725.994445\n",
      "            Check conductor dimensions. Cable space area acs likely gone negative. acs: -0.0005508737513930539\n",
      "            This is likely because t_cable_radial or t_cable_toroidal has gone negative:\n",
      "            t_cable_radial: -0.004791908399383562\n",
      "            t_cable_toroidal: 0.10815747369277497\n",
      "            \n",
      "Traceback (most recent call last):\n",
      "  File \"/home/graeme/process-gh/process/venvprocess/bin/process\", line 33, in <module>\n",
      "    sys.exit(load_entry_point('process', 'console_scripts', 'process')())\n",
      "  File \"/home/graeme/process-gh/process/process/main.py\", line 652, in main\n",
      "    Process(args)\n",
      "  File \"/home/graeme/process-gh/process/process/main.py\", line 126, in __init__\n",
      "    self.run_mode()\n",
      "  File \"/home/graeme/process-gh/process/process/main.py\", line 203, in run_mode\n",
      "    self.run.run()\n",
      "  File \"/home/graeme/process-gh/process/process/main.py\", line 361, in run\n",
      "    self.run_scan(self.solver)\n",
      "  File \"/home/graeme/process-gh/process/process/main.py\", line 464, in run_scan\n",
      "    self.scan = Scan(self.models, solver)\n",
      "  File \"/home/graeme/process-gh/process/process/scan.py\", line 22, in __init__\n",
      "    self.run_scan()\n",
      "  File \"/home/graeme/process-gh/process/process/scan.py\", line 36, in run_scan\n",
      "    ifail = self.doopt()\n",
      "  File \"/home/graeme/process-gh/process/process/scan.py\", line 57, in doopt\n",
      "    ifail = self.optimiser.run()\n",
      "  File \"/home/graeme/process-gh/process/process/optimiser.py\", line 54, in run\n",
      "    ifail = self.solver.solve()\n",
      "  File \"/home/graeme/process-gh/process/process/solver.py\", line 213, in solve\n",
      "    x, _, _, res = solve(\n",
      "  File \"/home/graeme/process-gh/process/venvprocess/lib/python3.10/site-packages/pyvmcon/vmcon.py\", line 179, in solve\n",
      "    alpha, mu_equality, mu_inequality, new_result = perform_linesearch(\n",
      "  File \"/home/graeme/process-gh/process/venvprocess/lib/python3.10/site-packages/pyvmcon/vmcon.py\", line 390, in perform_linesearch\n",
      "    result_at_1 = problem(x_jm1 + delta)\n",
      "  File \"/home/graeme/process-gh/process/process/solver.py\", line 132, in __call__\n",
      "    objf, conf = self._evaluator.fcnvmc1(n, self.total_constraints, x, 0)\n",
      "  File \"/home/graeme/process-gh/process/process/evaluators.py\", line 53, in fcnvmc1\n",
      "    objf, conf = self.caller.call_models(xv, m)\n",
      "  File \"/home/graeme/process-gh/process/process/caller.py\", line 65, in call_models\n",
      "    self._call_models_once(xc)\n",
      "  File \"/home/graeme/process-gh/process/process/caller.py\", line 226, in _call_models_once\n",
      "    self.models.sctfcoil.run(output=False)\n",
      "  File \"/home/graeme/process-gh/process/process/sctfcoil.py\", line 66, in run\n",
      "    ) = self.supercon(\n",
      "  File \"/home/graeme/process-gh/process/process/sctfcoil.py\", line 862, in supercon\n",
      "    t_zero_margin, root_result = optimize.newton(\n",
      "  File \"/home/graeme/process-gh/process/venvprocess/lib/python3.10/site-packages/scipy/optimize/_zeros_py.py\", line 391, in newton\n",
      "    raise RuntimeError(msg)\n",
      "RuntimeError: Failed to converge after 50 iterations, value is 12.353664475222791.\n"
     ]
    },
    {
     "data": {
      "text/plain": [
       "CompletedProcess(args=['process', '-i', '/home/graeme/easyVVUQ-process/all_demo_analysis/demo_analysis_5/clean_demo_2023_iqns_IN.DAT'], returncode=1)"
      ]
     },
     "execution_count": 11,
     "metadata": {},
     "output_type": "execute_result"
    }
   ],
   "source": [
    "subprocess.run([\"process\", \"-i\", ineqs_in_name])"
   ]
  },
  {
   "cell_type": "code",
   "execution_count": 12,
   "metadata": {},
   "outputs": [
    {
     "name": "stderr",
     "output_type": "stream",
     "text": [
      "rm: cannot remove '*SIG_TF.json': No such file or directory\n",
      "rm: cannot remove '*OUT.DAT': No such file or directory\n"
     ]
    },
    {
     "data": {
      "text/plain": [
       "CompletedProcess(args='rm *SIG_TF.json *OUT.DAT', returncode=1)"
      ]
     },
     "execution_count": 12,
     "metadata": {},
     "output_type": "execute_result"
    }
   ],
   "source": [
    "# Remove unwanted outputs\n",
    "subprocess.run(\"rm *SIG_TF.json *OUT.DAT\", shell=True)"
   ]
  },
  {
   "cell_type": "markdown",
   "metadata": {},
   "source": [
    "\n",
    "## Create once-through input file from solution point for UQ studies\n",
    "\n",
    "Use the solution vector to create a once-through (non-optimising) input file for UQ studies."
   ]
  },
  {
   "cell_type": "code",
   "execution_count": 13,
   "metadata": {},
   "outputs": [
    {
     "name": "stderr",
     "output_type": "stream",
     "text": [
      "Key 'nvar' not in MFILE. KeyError! Check MFILE\n"
     ]
    },
    {
     "name": "stdout",
     "output_type": "stream",
     "text": [
      "Optimisation parameter f-values ignored = 0\n",
      "f-values removed as optimisation parameters = 0\n"
     ]
    },
    {
     "data": {
      "text/plain": [
       "PosixPath('/home/graeme/easyVVUQ-process/all_demo_analysis/demo_analysis_5/clean_demo_2023_iqns_sol_IN.DAT')"
      ]
     },
     "execution_count": 13,
     "metadata": {},
     "output_type": "execute_result"
    }
   ],
   "source": [
    "input_name_stem = ineqs_in_name.split(\"_IN.DAT\")[0]\n",
    "mfile_name = input_name_stem + \"_MFILE.DAT\"\n",
    "sol_in_name = input_name_stem + \"_sol_IN.DAT\"\n",
    "\n",
    "convert(\n",
    "    original_in_name=ineqs_in_name,\n",
    "    mfile_name=mfile_name,\n",
    "    new_in_name=sol_in_name,\n",
    "    no_optimisation=True,\n",
    "    n_equalities=3,\n",
    "    remove_f_value_inits=False,\n",
    ")"
   ]
  },
  {
   "cell_type": "markdown",
   "metadata": {},
   "source": [
    "Optionally run the solution vector once-through IN.DAT."
   ]
  },
  {
   "cell_type": "code",
   "execution_count": 14,
   "metadata": {},
   "outputs": [
    {
     "name": "stdout",
     "output_type": "stream",
     "text": [
      "The IN.DAT file does not contain any obsolete variables.\n",
      " \n",
      " **************************************************************************************************************\n",
      " ************************************************** PROCESS ***************************************************\n",
      " ************************************** Power Reactor Optimisation Code ***************************************\n",
      " **************************************************************************************************************\n",
      " \n",
      "   Program :\n",
      "   Version : 3.1.0   Release Date :: 2024-03-21\n",
      "   Tag No. : v3.1.0-139-g627861e code contains untracked changes\n",
      " Warning in routine OCMMNT :\n",
      "   Branch : 1821-pythonise-bootstrap_fraction_sauter-function-in-physicsf90-and-integrate-refactored-plasmaprofiles-with-it\n",
      "This is longer than 110 columns.\n",
      "    Branch : 1821-pythonise-bootstrap_fraction_sauter-function-in-physicsf90-and-integrate-refactored-plasmaprofiles-with-it\n",
      "   Git log : Don|t allow MFile comparison with an error3 MFile ([hash]3179)\n",
      " Date/time : 10 Sep 2024  8:01:36 +01:00(hh:mm) UTC\n",
      "      User : graeme\n",
      "  Computer : graeme\n",
      " Directory : /home/graeme/process-gh/process\n",
      "     Input : /home/graeme/easyVVUQ-process/all_demo_analysis/demo_analysis_5/clean_demo_2023_iqns_sol_IN.DAT\n",
      " Run title : eu-demo 2018 baseline\n",
      "  Run type : Reactor concept design: Pulsed tokamak model, (c) CCFE\n",
      " \n",
      " **************************************************************************************************************\n",
      " \n",
      "   Equality constraints : 03\n",
      " Inequality constraints : 22\n",
      "      Total constraints : 25\n",
      "    Iteration variables : 19\n",
      "         Max iterations : ***\n",
      "       Figure of merit  : +01  -- minimise major radius\n",
      "  Convergence parameter : 1.00E-08\n",
      " \n",
      " **************************************************************************************************************\n",
      " Warning in routine OCMMNT :\n",
      "   Branch : 1821-pythonise-bootstrap_fraction_sauter-function-in-physicsf90-and-integrate-refactored-plasmaprofiles-with-it\n",
      "This is longer than 110 columns.\n",
      "78 | Convergence Parameter: 1.022E+00\r"
     ]
    },
    {
     "name": "stderr",
     "output_type": "stream",
     "text": [
      "/home/graeme/process-gh/process/process/sctfcoil.py:3471: RuntimeWarning: invalid value encountered in sqrt\n",
      "  sctfcoil_module.t_cable = numpy.sqrt(\n",
      "process.sctfcoil - WARNING - Negative Iop/Icrit for TF coil\n",
      "            jsc: -625108623.6248327\n",
      "            iooic: -0.24467635364401158\n",
      "            j_crit_sc: 2554838725.994445\n",
      "            Check conductor dimensions. Cable space area acs likely gone negative. acs: -0.0005508737513930539\n",
      "            This is likely because t_cable_radial or t_cable_toroidal has gone negative:\n",
      "            t_cable_radial: -0.004791908399383562\n",
      "            t_cable_toroidal: 0.10815747369277497\n",
      "            \n",
      "Traceback (most recent call last):\n",
      "  File \"/home/graeme/process-gh/process/venvprocess/bin/process\", line 33, in <module>\n",
      "    sys.exit(load_entry_point('process', 'console_scripts', 'process')())\n",
      "  File \"/home/graeme/process-gh/process/process/main.py\", line 652, in main\n",
      "    Process(args)\n",
      "  File \"/home/graeme/process-gh/process/process/main.py\", line 126, in __init__\n",
      "    self.run_mode()\n",
      "  File \"/home/graeme/process-gh/process/process/main.py\", line 203, in run_mode\n",
      "    self.run.run()\n",
      "  File \"/home/graeme/process-gh/process/process/main.py\", line 361, in run\n",
      "    self.run_scan(self.solver)\n",
      "  File \"/home/graeme/process-gh/process/process/main.py\", line 464, in run_scan\n",
      "    self.scan = Scan(self.models, solver)\n",
      "  File \"/home/graeme/process-gh/process/process/scan.py\", line 22, in __init__\n",
      "    self.run_scan()\n",
      "  File \"/home/graeme/process-gh/process/process/scan.py\", line 36, in run_scan\n",
      "    ifail = self.doopt()\n",
      "  File \"/home/graeme/process-gh/process/process/scan.py\", line 57, in doopt\n",
      "    ifail = self.optimiser.run()\n",
      "  File \"/home/graeme/process-gh/process/process/optimiser.py\", line 54, in run\n",
      "    ifail = self.solver.solve()\n",
      "  File \"/home/graeme/process-gh/process/process/solver.py\", line 213, in solve\n",
      "    x, _, _, res = solve(\n",
      "  File \"/home/graeme/process-gh/process/venvprocess/lib/python3.10/site-packages/pyvmcon/vmcon.py\", line 179, in solve\n",
      "    alpha, mu_equality, mu_inequality, new_result = perform_linesearch(\n",
      "  File \"/home/graeme/process-gh/process/venvprocess/lib/python3.10/site-packages/pyvmcon/vmcon.py\", line 390, in perform_linesearch\n",
      "    result_at_1 = problem(x_jm1 + delta)\n",
      "  File \"/home/graeme/process-gh/process/process/solver.py\", line 132, in __call__\n",
      "    objf, conf = self._evaluator.fcnvmc1(n, self.total_constraints, x, 0)\n",
      "  File \"/home/graeme/process-gh/process/process/evaluators.py\", line 53, in fcnvmc1\n",
      "    objf, conf = self.caller.call_models(xv, m)\n",
      "  File \"/home/graeme/process-gh/process/process/caller.py\", line 65, in call_models\n",
      "    self._call_models_once(xc)\n",
      "  File \"/home/graeme/process-gh/process/process/caller.py\", line 226, in _call_models_once\n",
      "    self.models.sctfcoil.run(output=False)\n",
      "  File \"/home/graeme/process-gh/process/process/sctfcoil.py\", line 66, in run\n",
      "    ) = self.supercon(\n",
      "  File \"/home/graeme/process-gh/process/process/sctfcoil.py\", line 862, in supercon\n",
      "    t_zero_margin, root_result = optimize.newton(\n",
      "  File \"/home/graeme/process-gh/process/venvprocess/lib/python3.10/site-packages/scipy/optimize/_zeros_py.py\", line 391, in newton\n",
      "    raise RuntimeError(msg)\n",
      "RuntimeError: Failed to converge after 50 iterations, value is 12.353664475222791.\n",
      "rm: cannot remove '*SIG_TF.json': No such file or directory\n",
      "rm: cannot remove '*OUT.DAT': No such file or directory\n"
     ]
    },
    {
     "data": {
      "text/plain": [
       "CompletedProcess(args='rm *SIG_TF.json *OUT.DAT', returncode=1)"
      ]
     },
     "execution_count": 14,
     "metadata": {},
     "output_type": "execute_result"
    }
   ],
   "source": [
    "subprocess.run([\"process\", \"-i\", sol_in_name])\n",
    "# Remove unwanted outputs\n",
    "subprocess.run(\"rm *SIG_TF.json *OUT.DAT\", shell=True)"
   ]
  },
  {
   "cell_type": "markdown",
   "metadata": {},
   "source": [
    "Could extend to convert solution IN.DAT to template for UQ."
   ]
  }
 ],
 "metadata": {
  "kernelspec": {
   "display_name": "easyVVUQ-process",
   "language": "python",
   "name": "python3"
  },
  "language_info": {
   "codemirror_mode": {
    "name": "ipython",
    "version": 3
   },
   "file_extension": ".py",
   "mimetype": "text/x-python",
   "name": "python",
   "nbconvert_exporter": "python",
   "pygments_lexer": "ipython3",
   "version": "3.10.14"
  }
 },
 "nbformat": 4,
 "nbformat_minor": 2
}
